{
 "cells": [
  {
   "cell_type": "code",
   "execution_count": 1,
   "metadata": {
    "collapsed": true,
    "deletable": true,
    "editable": true
   },
   "outputs": [],
   "source": [
    "import jieba  \n",
    "import jieba.posseg as pseg  \n",
    "import os  \n",
    "import sys  \n",
    "from sklearn import feature_extraction  \n",
    "from sklearn.feature_extraction.text import TfidfTransformer  \n",
    "from sklearn.feature_extraction.text import CountVectorizer \n",
    "import numpy as np\n",
    "import pickle\n",
    "from scipy.sparse import coo_matrix, vstack\n",
    "from data_learning import Transform\n",
    "from brand_obj import Brand\n",
    "from data_tool import flat_json,csv_to_list, list_to_csv\n",
    "from collections import OrderedDict, Counter\n",
    "from async_promises import Promise"
   ]
  },
  {
   "cell_type": "markdown",
   "metadata": {
    "deletable": true,
    "editable": true
   },
   "source": [
    "\n",
    "number of posts\n",
    "number of class 1 post\n",
    "number of class 2 post\n",
    "number of class 3 post\n",
    "start fans 增長率\n",
    "end fans"
   ]
  },
  {
   "cell_type": "code",
   "execution_count": 2,
   "metadata": {
    "collapsed": false,
    "deletable": true,
    "editable": true
   },
   "outputs": [],
   "source": [
    "fp_profile = csv_to_list(\"fid_list_4.csv\")"
   ]
  },
  {
   "cell_type": "code",
   "execution_count": 3,
   "metadata": {
    "collapsed": false,
    "deletable": true,
    "editable": true
   },
   "outputs": [],
   "source": [
    "def make_promise(fp):\n",
    "    # 做spss 資料，如果成功\n",
    "    def resolver(resolve, reject):\n",
    "        fp_dict = OrderedDict()\n",
    "        try:\n",
    "            fp_dict['fid'] = fp['fid']\n",
    "            fp_dict['name'] = fp['name']\n",
    "            fp_dict['category'] = fp['category']\n",
    "            fp_dict['fb_certificate'] = fp['fb_certificate']   #0:no certificate, 1:grey certificate, 2:blue certificate\n",
    "        except:\n",
    "            print \"fp problem : {0}\".format(fp['fid'])\n",
    "            resolve(fp_dict)\n",
    "        \n",
    "        try:\n",
    "            brand = Brand(str(fp['fid']))\n",
    "            fp_dict['like_list'] = brand.like_count_list\n",
    "            fp_dict['comment_list'] = brand.comment_count_list\n",
    "            fp_dict['share_list'] = brand.share_count_list\n",
    "            fp_dict['friendtag_list'] = brand.tag_count_list\n",
    "        except:\n",
    "            print \"Brand count problem : {0}\".format(fp['fid'])\n",
    "            resolve(fp_dict)\n",
    "        \n",
    "        try:\n",
    "            fp_dict['like_avg_count'] = sum(fp_dict['like_list'])/float(len(fp_dict['like_list']))\n",
    "            fp_dict['comment_avg_count'] = sum(fp_dict['comment_list'])/float(len(fp_dict['comment_list']))\n",
    "            fp_dict['share_avg_count'] = sum(fp_dict['share_list'])/float(len(fp_dict['share_list']))\n",
    "            fp_dict['friendtag_avg_count'] = sum(fp_dict['friendtag_list'])/float(len(fp_dict['friendtag_list']))\n",
    "        except:\n",
    "            print \"Brand count math problem : {0}\".format(fp['fid'])\n",
    "            resolve(fp_dict)\n",
    "        \n",
    "        try:\n",
    "            fp_dict['class_list'] = brand.class_list\n",
    "            fp_dict['class1_post_count'] = fp_dict['class_list'].count(1)\n",
    "            fp_dict['class2_post_count'] = fp_dict['class_list'].count(2)\n",
    "            fp_dict['class3_post_count'] = fp_dict['class_list'].count(3)\n",
    "#             class_dict = Counter(fp_dict['class_list'])\n",
    "#             [fp_dict['class1_post_count'],\n",
    "#             fp_dict['class2_post_count'],\n",
    "#             fp_dict['class3_post_count']] = [v for k,v in class_dict.iteritems()]\n",
    "        except:\n",
    "            print \"class count problem : {0}\".format(fp['fid'])\n",
    "            resolve(fp_dict)\n",
    "\n",
    "        fp_dict['start_fans'] = brand.start_fan_count\n",
    "        fp_dict['stop_fans'] = brand.stop_fan_count\n",
    "        resolve(fp_dict)\n",
    "            \n",
    "    return Promise(resolver)"
   ]
  },
  {
   "cell_type": "code",
   "execution_count": 4,
   "metadata": {
    "collapsed": false,
    "deletable": true,
    "editable": true
   },
   "outputs": [],
   "source": [
    "# fp_spss_list = []\n",
    "promise_list = []\n",
    "for fp in fp_profile:\n",
    "# for fp in [fp_profile[164]]:\n",
    "    p = make_promise(fp)\n",
    "    promise_list.append(p)"
   ]
  },
  {
   "cell_type": "code",
   "execution_count": 5,
   "metadata": {
    "collapsed": false,
    "deletable": true,
    "editable": true
   },
   "outputs": [
    {
     "name": "stderr",
     "output_type": "stream",
     "text": [
      "Building prefix dict from the default dictionary ...\n",
      "Loading model from cache /var/folders/q1/sy8zj9z12v792k86g84xby1r0000gn/T/jieba.cache\n",
      "Loading model cost 1.377 seconds.\n",
      "Prefix dict has been built succesfully.\n"
     ]
    }
   ],
   "source": [
    "p = Promise.all(promise_list).then(lambda res: res)\n",
    "result = p.get()"
   ]
  },
  {
   "cell_type": "code",
   "execution_count": 6,
   "metadata": {
    "collapsed": false
   },
   "outputs": [
    {
     "data": {
      "text/plain": [
       "230"
      ]
     },
     "execution_count": 6,
     "metadata": {},
     "output_type": "execute_result"
    }
   ],
   "source": [
    "len(result)"
   ]
  },
  {
   "cell_type": "code",
   "execution_count": 7,
   "metadata": {
    "collapsed": true
   },
   "outputs": [],
   "source": [
    "list_to_csv(result,\"data_spss/spss_0922.csv\")"
   ]
  },
  {
   "cell_type": "code",
   "execution_count": null,
   "metadata": {
    "collapsed": true
   },
   "outputs": [],
   "source": []
  }
 ],
 "metadata": {
  "kernelspec": {
   "display_name": "Python 2",
   "language": "python",
   "name": "python2"
  },
  "language_info": {
   "codemirror_mode": {
    "name": "ipython",
    "version": 2
   },
   "file_extension": ".py",
   "mimetype": "text/x-python",
   "name": "python",
   "nbconvert_exporter": "python",
   "pygments_lexer": "ipython2",
   "version": "2.7.10"
  }
 },
 "nbformat": 4,
 "nbformat_minor": 2
}
