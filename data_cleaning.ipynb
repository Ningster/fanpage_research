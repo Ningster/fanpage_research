{
 "cells": [
  {
   "cell_type": "code",
   "execution_count": 8,
   "metadata": {
    "collapsed": true,
    "deletable": true,
    "editable": true
   },
   "outputs": [],
   "source": [
    "import json\n",
    "import pymongo"
   ]
  },
  {
   "cell_type": "code",
   "execution_count": 9,
   "metadata": {
    "collapsed": false,
    "deletable": true,
    "editable": true
   },
   "outputs": [],
   "source": [
    "from data_tool import flat_json"
   ]
  },
  {
   "cell_type": "code",
   "execution_count": 3,
   "metadata": {
    "collapsed": false,
    "deletable": true,
    "editable": true
   },
   "outputs": [
    {
     "data": {
      "text/plain": [
       "u'fanpage_research'"
      ]
     },
     "execution_count": 3,
     "metadata": {},
     "output_type": "execute_result"
    }
   ],
   "source": [
    "# db set-up\n",
    "client = pymongo.MongoClient(\"localhost\", 27017)\n",
    "db = client.fanpage_research\n",
    "db.name"
   ]
  },
  {
   "cell_type": "code",
   "execution_count": 4,
   "metadata": {
    "collapsed": true,
    "deletable": true,
    "editable": true
   },
   "outputs": [],
   "source": [
    "def get_valid_pid_list():\n",
    "    \"\"\"\n",
    "    Get all post_id from MongoDB excluding the post which content is None and like_count is 0.\n",
    "\n",
    "    :return: valid post for research.\n",
    "    :rtype: list\n",
    "    \"\"\"\n",
    "    valid_pid_list = []\n",
    "    try:\n",
    "        # get pid_list exclude message content is None\n",
    "        p_cursor = list(db.post.aggregate([{\"$match\":{\"message\":{\"$ne\":None}}}]))\n",
    "        pid_list_has_message = flat_json(p_cursor)['pid']\n",
    "\n",
    "        # get pid_list exclude like_count is 0\n",
    "        pd_cursor = list(db.post_detail.aggregate([\n",
    "            {\"$group\":{\"_id\":\"$pid\",\"like_count_total\":{\"$sum\":\"$like_count\"}}},\n",
    "            {\"$match\":{\"like_count_total\":{\"$ne\":0}}}\n",
    "        ]))\n",
    "        pid_list_has_like = flat_json(pd_cursor)['_id']\n",
    "\n",
    "        # get valid_pid_list where pid has message content and like_count is not 0\n",
    "        valid_pid_list = list(set.intersection(set(pid_list_has_message),set(pid_list_has_like)))\n",
    "    except:\n",
    "        print \"Error occured when getting valid_pid_list\"\n",
    "    return valid_pid_list"
   ]
  },
  {
   "cell_type": "code",
   "execution_count": 5,
   "metadata": {
    "collapsed": false,
    "deletable": true,
    "editable": true
   },
   "outputs": [],
   "source": [
    "valid_pid_list = get_valid_pid_list()"
   ]
  },
  {
   "cell_type": "code",
   "execution_count": 6,
   "metadata": {
    "collapsed": false,
    "deletable": true,
    "editable": true
   },
   "outputs": [],
   "source": [
    "# 將 valid post_list 存入硬碟中，待後續使用\n",
    "with open(\"data_106/valid_pid_list\",'w') as outfile:\n",
    "    json.dump(valid_pid_list,outfile)"
   ]
  }
 ],
 "metadata": {
  "kernelspec": {
   "display_name": "Python 2",
   "language": "python",
   "name": "python2"
  },
  "language_info": {
   "codemirror_mode": {
    "name": "ipython",
    "version": 2
   },
   "file_extension": ".py",
   "mimetype": "text/x-python",
   "name": "python",
   "nbconvert_exporter": "python",
   "pygments_lexer": "ipython2",
   "version": "2.7.10"
  }
 },
 "nbformat": 4,
 "nbformat_minor": 2
}
