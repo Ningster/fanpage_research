{
 "cells": [
  {
   "cell_type": "code",
   "execution_count": 1,
   "metadata": {
    "collapsed": true,
    "deletable": true,
    "editable": true
   },
   "outputs": [],
   "source": [
    "import json\n",
    "import unicodecsv as csv\n",
    "import pymongo"
   ]
  },
  {
   "cell_type": "code",
   "execution_count": 2,
   "metadata": {
    "collapsed": true,
    "deletable": true,
    "editable": true
   },
   "outputs": [],
   "source": [
    "# 把一個list內的所有 json 打平，讓所有 json 共享同一個 key，並將其 value 搜集至對應的 list 當中\n",
    "def flat_json(json_list):\n",
    "    \"\"\"\n",
    "    Flatten the json_list into a single dictionary. \n",
    "\n",
    "    :param json_list: a list consists of json obj queried from MongoDB.\n",
    "    :return: a dictionary with key as provided json obj, and value is a list to concatenate value from each json obj.\n",
    "    :rtype: dictionary\n",
    "    \"\"\"\n",
    "    try:\n",
    "        key_list = json_list[0].keys()\n",
    "        result_dict = {key:[json_obj[key] for json_obj in json_list] for key in key_list }  # result_dict initialization\n",
    "        return result_dict\n",
    "    except:\n",
    "        print \"Error occured when flattening json_list.\""
   ]
  },
  {
   "cell_type": "code",
   "execution_count": 3,
   "metadata": {
    "collapsed": true,
    "deletable": true,
    "editable": true
   },
   "outputs": [],
   "source": [
    "# 匯入 csv 檔案\n",
    "def csv_to_list(csv_file_path):\n",
    "    \"\"\"\n",
    "    Input a csv file by reading a row as a dictionary.\n",
    "\n",
    "    :param csv_file_path: the path to csv file.\n",
    "    :return: a list consists of dictionaries, a dictionary represents a row in csv file.\n",
    "    :rtype: list\n",
    "    \"\"\"\n",
    "    with open(csv_file_path) as csvfile:\n",
    "        reader = csv.DictReader(csvfile)\n",
    "        post_data_list = [{k:int(v) if v.isdigit() else v for k,v in row.iteritems()} for row in reader]\n",
    "        return post_data_list"
   ]
  },
  {
   "cell_type": "code",
   "execution_count": 4,
   "metadata": {
    "collapsed": true,
    "deletable": true,
    "editable": true
   },
   "outputs": [],
   "source": [
    "# 匯出 csv 檔，供手動標記 label 使用，建議用Numbers開啟此檔案 \n",
    "def list_to_csv(dict_list, csv_file_path):\n",
    "    \"\"\"\n",
    "    Output a csv file for a list of dictionaries, the csv is for future manual labeling.\n",
    "\n",
    "    :param dict_list: a list consists of ditionaries, each dictionary represents a data collection of a post.\n",
    "    :param csv_file_path: path to csv file.\n",
    "    \"\"\"\n",
    "    with open(csv_file_path, 'w') as f:  \n",
    "        w = csv.DictWriter(f, dict_list[0].keys())\n",
    "        w.writeheader()\n",
    "        w.writerows(dict_list)"
   ]
  },
  {
   "cell_type": "code",
   "execution_count": 5,
   "metadata": {
    "collapsed": false,
    "deletable": true,
    "editable": true
   },
   "outputs": [
    {
     "ename": "NameError",
     "evalue": "name 'pymongo' is not defined",
     "output_type": "error",
     "traceback": [
      "\u001b[0;31m---------------------------------------------------------------------------\u001b[0m",
      "\u001b[0;31mNameError\u001b[0m                                 Traceback (most recent call last)",
      "\u001b[0;32m<ipython-input-5-0d77d8e3d7d1>\u001b[0m in \u001b[0;36m<module>\u001b[0;34m()\u001b[0m\n\u001b[1;32m      1\u001b[0m \u001b[0;31m# db set-up\u001b[0m\u001b[0;34m\u001b[0m\u001b[0;34m\u001b[0m\u001b[0m\n\u001b[0;32m----> 2\u001b[0;31m \u001b[0mclient\u001b[0m \u001b[0;34m=\u001b[0m \u001b[0mpymongo\u001b[0m\u001b[0;34m.\u001b[0m\u001b[0mMongoClient\u001b[0m\u001b[0;34m(\u001b[0m\u001b[0;34m\"localhost\"\u001b[0m\u001b[0;34m,\u001b[0m \u001b[0;36m27017\u001b[0m\u001b[0;34m)\u001b[0m\u001b[0;34m\u001b[0m\u001b[0m\n\u001b[0m\u001b[1;32m      3\u001b[0m \u001b[0mdb\u001b[0m \u001b[0;34m=\u001b[0m \u001b[0mclient\u001b[0m\u001b[0;34m.\u001b[0m\u001b[0mfanpage_research\u001b[0m\u001b[0;34m\u001b[0m\u001b[0m\n\u001b[1;32m      4\u001b[0m \u001b[0mdb\u001b[0m\u001b[0;34m.\u001b[0m\u001b[0mname\u001b[0m\u001b[0;34m\u001b[0m\u001b[0m\n",
      "\u001b[0;31mNameError\u001b[0m: name 'pymongo' is not defined"
     ]
    }
   ],
   "source": [
    "# db set-up\n",
    "client = pymongo.MongoClient(\"localhost\", 27017)\n",
    "db = client.fanpage_research\n",
    "db.name"
   ]
  },
  {
   "cell_type": "code",
   "execution_count": null,
   "metadata": {
    "collapsed": true
   },
   "outputs": [],
   "source": [
    "def get_valid_pid_list():\n",
    "    \"\"\"\n",
    "    Get all post_id from MongoDB excluding the post which content is None and like_count is 0.\n",
    "\n",
    "    :return: valid post for research.\n",
    "    :rtype: list\n",
    "    \"\"\"\n",
    "    valid_pid_list = []\n",
    "    try:\n",
    "        # get pid_list exclude message content is None\n",
    "        p_cursor = list(db.post.aggregate([{\"$match\":{\"message\":{\"$ne\":None}}}]))\n",
    "        pid_list_has_message = flat_json(p_cursor)['pid']\n",
    "\n",
    "        # get pid_list exclude like_count is 0\n",
    "        pd_cursor = list(db.post_detail.aggregate([\n",
    "            {\"$group\":{\"_id\":\"$pid\",\"like_count_total\":{\"$sum\":\"$like_count\"}}},\n",
    "            {\"$match\":{\"like_count_total\":{\"$ne\":0}}}\n",
    "        ]))\n",
    "        pid_list_has_like = flat_json(pd_cursor)['_id']\n",
    "\n",
    "        # get valid_pid_list where pid has message content and like_count is not 0\n",
    "        valid_pid_list = list(set.intersection(set(pid_list_has_message),set(pid_list_has_like)))\n",
    "    except:\n",
    "        print \"Error occured when getting valid_pid_list\"\n",
    "    return valid_pid_list"
   ]
  }
 ],
 "metadata": {
  "kernelspec": {
   "display_name": "Python 2",
   "language": "python",
   "name": "python2"
  },
  "language_info": {
   "codemirror_mode": {
    "name": "ipython",
    "version": 2
   },
   "file_extension": ".py",
   "mimetype": "text/x-python",
   "name": "python",
   "nbconvert_exporter": "python",
   "pygments_lexer": "ipython2",
   "version": "2.7.10"
  }
 },
 "nbformat": 4,
 "nbformat_minor": 2
}
