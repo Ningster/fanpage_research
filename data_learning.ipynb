{
 "cells": [
  {
   "cell_type": "code",
   "execution_count": 1,
   "metadata": {
    "collapsed": false,
    "deletable": true,
    "editable": true
   },
   "outputs": [],
   "source": [
    "from data_tool import csv_to_list, list_to_csv, flat_json\n",
    "import jieba  \n",
    "import jieba.posseg as pseg  \n",
    "import os  \n",
    "import sys  \n",
    "from sklearn import feature_extraction  \n",
    "from sklearn.feature_extraction.text import TfidfTransformer  \n",
    "from sklearn.feature_extraction.text import CountVectorizer \n",
    "import numpy as np\n",
    "import pickle\n",
    "from scipy.sparse import coo_matrix, vstack"
   ]
  },
  {
   "cell_type": "code",
   "execution_count": 2,
   "metadata": {
    "collapsed": true,
    "deletable": true,
    "editable": true
   },
   "outputs": [],
   "source": [
    "# numpy array set-up\n",
    "np.set_printoptions(threshold=np.inf)"
   ]
  },
  {
   "cell_type": "code",
   "execution_count": 3,
   "metadata": {
    "collapsed": false,
    "deletable": true,
    "editable": true
   },
   "outputs": [],
   "source": [
    "def train_tfidf_vectorizer(flat_train_msg_list, path_to_save):\n",
    "    \"\"\"\n",
    "    Train and save the tfidf vectorizer as pickle file.\n",
    "\n",
    "    :param path_to_save: path to save the trained tfidf\n",
    "    :param flat_train_msg_list: data to train the vectorizer, in flat list format.\n",
    "    \"\"\"\n",
    "    corpus = [\" \".join(jieba.cut(msg)) for msg in flat_train_msg_list]\n",
    "    vectorizer=CountVectorizer()# 该类会将文本中的词语转换为词频矩阵，矩阵元素a[i][j] 表示j词在i类文本下的词频  \n",
    "    transformer=TfidfTransformer()# 该类会统计每个词语的tf-idf权值\n",
    "    transformer.fit_transform(vectorizer.fit_transform(corpus)) # 用 fit_transform 和 training data 訓練模型\n",
    "    with open(path_to_save,\"wb\") as outfile: # 將模型存至硬碟\n",
    "        pickle.dump((vectorizer,transformer),outfile)"
   ]
  },
  {
   "cell_type": "code",
   "execution_count": 4,
   "metadata": {
    "collapsed": false,
    "deletable": true,
    "editable": true
   },
   "outputs": [],
   "source": [
    "class Transform:\n",
    "    def __init__(self,tfidf_model_path):\n",
    "        self.tfidf_model_path = tfidf_model_path\n",
    "        self.vectorizer, self.transformer = self.get_tfidf_vectorizer()\n",
    "    def get_tfidf_vectorizer(self):\n",
    "        \"\"\"\n",
    "        Load tfidf vectorizer from hard disk.\n",
    "\n",
    "        :return: vectorizer, transformer object of sklearn tfidf object\n",
    "        :rtype: vectorizer, transformer object of sklearn tfidf object\n",
    "        \"\"\"\n",
    "        with open(self.tfidf_model_path,\"rb\") as infile: \n",
    "            return pickle.load(infile)\n",
    "    def to_sparse_matrix(self,flat_message_list):\n",
    "        \"\"\"\n",
    "        Transform flat message data list to sparse matrix, for param X of sklearn fit method.\n",
    "\n",
    "        :param flat_message_list: message_list in flat list format.\n",
    "        :return: { sparse matrix}, shape (n_samples, n_features) for sklearn fit method\n",
    "        :rtype: scipy.sparse.csr_matrix: Compressed Sparse Row format.\n",
    "        \"\"\"\n",
    "        return vstack([self.transformer.transform(self.vectorizer.transform([\" \".join(jieba.cut(msg))])) \n",
    "                     for msg in flat_message_list])    \n",
    "    def to_ndarray(self,flat_lebel_list):\n",
    "        \"\"\"\n",
    "        Transform flat label data list to ndarray, for param y of sklearn fit method.\n",
    "\n",
    "        :param flat_lebel_list: label_list in flat list format.\n",
    "        :return: array-like, shape (n_samples,) for sklearn fit method\n",
    "        :rtype: ndarray\n",
    "        \"\"\"\n",
    "        return np.array(flat_lebel_list)"
   ]
  },
  {
   "cell_type": "code",
   "execution_count": 300,
   "metadata": {
    "collapsed": true,
    "deletable": true,
    "editable": true
   },
   "outputs": [],
   "source": [
    "# 從硬碟中取出 已標記好、分好的訓練/測試資料\n",
    "train_post_data_list = csv_to_list(\"data_106/exp_train.csv\")\n",
    "test_post_data_list = csv_to_list(\"data_106/exp_test.csv\")"
   ]
  },
  {
   "cell_type": "code",
   "execution_count": 301,
   "metadata": {
    "collapsed": true,
    "deletable": true,
    "editable": true
   },
   "outputs": [],
   "source": [
    "# 資料打平\n",
    "flat_train_post_list = flat_json(train_post_data_list)\n",
    "flat_test_post_list = flat_json(test_post_data_list)"
   ]
  },
  {
   "cell_type": "code",
   "execution_count": 302,
   "metadata": {
    "collapsed": false,
    "deletable": true,
    "editable": true
   },
   "outputs": [],
   "source": [
    "# 訓練 tfidf 模型，存入硬碟\n",
    "train_tfidf_vectorizer(flat_train_post_list['message'],\"data_106/feature_product.pkl\")"
   ]
  },
  {
   "cell_type": "code",
   "execution_count": 303,
   "metadata": {
    "collapsed": false,
    "deletable": true,
    "editable": true
   },
   "outputs": [],
   "source": [
    "# 將資料轉換成 sklearn machine learning 格式\n",
    "tf = Transform(\"data_106/feature_product.pkl\")\n",
    "train_tfidf_X = tf.to_sparse_matrix(flat_train_post_list['message'])\n",
    "train_y = tf.to_ndarray(flat_train_post_list['label'])\n",
    "test_tfidf_X = tf.to_sparse_matrix(flat_test_post_list['message'])\n",
    "test_y = tf.to_ndarray(flat_test_post_list['label'])"
   ]
  },
  {
   "cell_type": "code",
   "execution_count": 304,
   "metadata": {
    "collapsed": false,
    "deletable": true,
    "editable": true
   },
   "outputs": [
    {
     "data": {
      "text/plain": [
       "183"
      ]
     },
     "execution_count": 304,
     "metadata": {},
     "output_type": "execute_result"
    }
   ],
   "source": [
    "len(train_y)"
   ]
  },
  {
   "cell_type": "code",
   "execution_count": 305,
   "metadata": {
    "collapsed": false,
    "deletable": true,
    "editable": true
   },
   "outputs": [
    {
     "data": {
      "text/plain": [
       "61"
      ]
     },
     "execution_count": 305,
     "metadata": {},
     "output_type": "execute_result"
    }
   ],
   "source": [
    "len(test_y)"
   ]
  },
  {
   "cell_type": "markdown",
   "metadata": {
    "deletable": true,
    "editable": true
   },
   "source": [
    "# Machine Learning Time"
   ]
  },
  {
   "cell_type": "code",
   "execution_count": 40,
   "metadata": {
    "collapsed": true,
    "deletable": true,
    "editable": true
   },
   "outputs": [],
   "source": [
    "from sklearn.linear_model import LogisticRegression\n",
    "from sklearn.metrics import classification_report\n",
    "from sklearn import svm\n",
    "from sklearn import tree"
   ]
  },
  {
   "cell_type": "code",
   "execution_count": 41,
   "metadata": {
    "collapsed": false,
    "deletable": true,
    "editable": true
   },
   "outputs": [],
   "source": [
    "# 正確率\n",
    "def show_accuracy_report(prediction, test_y):\n",
    "    accuracy = np.mean(prediction==test_y)\n",
    "    correct_idx = np.where(prediction==test_y)[0]\n",
    "    incorrect_idx = np.where(prediction!=test_y)[0]\n",
    "    print \"accuracy:\",accuracy\n",
    "    print \"correct_idx:\",correct_idx\n",
    "    print \"incorrect_idx:\",incorrect_idx \n",
    "    print classification_report(test_y, prediction)"
   ]
  },
  {
   "cell_type": "code",
   "execution_count": 236,
   "metadata": {
    "collapsed": false,
    "deletable": true,
    "editable": true
   },
   "outputs": [
    {
     "name": "stdout",
     "output_type": "stream",
     "text": [
      "\n"
     ]
    }
   ],
   "source": [
    "def check_one(model,idx):\n",
    "    print \"predict : \", model.predict(tf.to_sparse_matrix([flat_test_post_list['message'][idx]]))\n",
    "    print \"reality : \", flat_test_post_list['label'][idx]\n",
    "    print \"message : \", flat_test_post_list['message'][idx]\n",
    "    print \"probability : \",model.predict_proba(tf.to_sparse_matrix([flat_test_post_list['message'][idx]]))"
   ]
  },
  {
   "cell_type": "code",
   "execution_count": 313,
   "metadata": {
    "collapsed": true
   },
   "outputs": [],
   "source": [
    "lg = LogisticRegression()\n",
    "lg_model = lg.fit(train_tfidf_X,train_y)"
   ]
  },
  {
   "cell_type": "code",
   "execution_count": 314,
   "metadata": {
    "collapsed": true
   },
   "outputs": [],
   "source": [
    "prediction = lg_model.predict(test_tfidf_X)"
   ]
  },
  {
   "cell_type": "code",
   "execution_count": 315,
   "metadata": {
    "collapsed": false
   },
   "outputs": [
    {
     "name": "stdout",
     "output_type": "stream",
     "text": [
      "accuracy: 0.819672131148\n",
      "correct_idx: [ 0  1  2  3  4  5  6  7  8 10 11 12 13 14 16 17 18 19 20 21 22 23 25 26 27\n",
      " 28 29 30 31 33 34 35 36 37 38 39 40 41 42 46 47 49 50 51 53 55 56 57 59 60]\n",
      "incorrect_idx: [ 9 15 24 32 43 44 45 48 52 54 58]\n",
      "             precision    recall  f1-score   support\n",
      "\n",
      "          1       0.79      0.71      0.75        21\n",
      "          2       0.73      0.80      0.76        20\n",
      "          3       0.95      0.95      0.95        20\n",
      "\n",
      "avg / total       0.82      0.82      0.82        61\n",
      "\n"
     ]
    }
   ],
   "source": [
    "show_accuracy_report(prediction, test_y)"
   ]
  },
  {
   "cell_type": "code",
   "execution_count": 317,
   "metadata": {
    "collapsed": false,
    "deletable": true,
    "editable": true
   },
   "outputs": [
    {
     "name": "stdout",
     "output_type": "stream",
     "text": [
      "predict :  [2]\n",
      "reality :  1\n",
      "message :  [週日動動腦]\n",
      "大家都吃過新品火腿起司了嗎??\n",
      "猜猜看sal'e是甚麼意思呢?\n",
      "probability :  [[ 0.35656346  0.37199587  0.27144067]]\n"
     ]
    }
   ],
   "source": [
    "check_one(lg_model,24)"
   ]
  },
  {
   "cell_type": "code",
   "execution_count": null,
   "metadata": {
    "collapsed": true
   },
   "outputs": [],
   "source": []
  },
  {
   "cell_type": "code",
   "execution_count": null,
   "metadata": {
    "collapsed": true
   },
   "outputs": [],
   "source": []
  }
 ],
 "metadata": {
  "kernelspec": {
   "display_name": "Python 2",
   "language": "python",
   "name": "python2"
  },
  "language_info": {
   "codemirror_mode": {
    "name": "ipython",
    "version": 2
   },
   "file_extension": ".py",
   "mimetype": "text/x-python",
   "name": "python",
   "nbconvert_exporter": "python",
   "pygments_lexer": "ipython2",
   "version": "2.7.10"
  }
 },
 "nbformat": 4,
 "nbformat_minor": 2
}
