{
 "cells": [
  {
   "cell_type": "code",
   "execution_count": 39,
   "metadata": {
    "collapsed": true,
    "deletable": true,
    "editable": true
   },
   "outputs": [],
   "source": [
    "#0 : Promotional  5.33% 折扣、下殺 特價。。。\n",
    "#1: Engagement  31.56%   按讚、打卡 分享。。。\n",
    "#2: Product Awareness  28% (產品) “new product” 系列、首發、新登場、開箱、推薦 新一代 進化版\n",
    "#3: Brand Awareness 8.44%（品牌）\n",
    "#Corporate Social Responsibility 5.33%\n",
    "#Customer Service 3.11% (粉絲) 服務 品管\n",
    "#Seasonal 18.67%     開學、情人節\n"
   ]
  },
  {
   "cell_type": "code",
   "execution_count": 2933,
   "metadata": {
    "collapsed": true,
    "deletable": true,
    "editable": true
   },
   "outputs": [],
   "source": [
    "import collections\n",
    "from collections import OrderedDict"
   ]
  },
  {
   "cell_type": "code",
   "execution_count": 772,
   "metadata": {
    "collapsed": true,
    "deletable": true,
    "editable": true
   },
   "outputs": [],
   "source": [
    "from pymongo import MongoClient\n",
    "import json\n",
    "import os.path\n",
    "from numpy import array"
   ]
  },
  {
   "cell_type": "code",
   "execution_count": 35,
   "metadata": {
    "collapsed": true,
    "deletable": true,
    "editable": true
   },
   "outputs": [],
   "source": [
    "client = MongoClient('mongodb://localhost:27017/')"
   ]
  },
  {
   "cell_type": "code",
   "execution_count": 36,
   "metadata": {
    "collapsed": true,
    "deletable": true,
    "editable": true
   },
   "outputs": [],
   "source": [
    "db = client['fanpage_research']\n",
    "coll_fanpage = db['fanpage']\n",
    "coll_post = db['post']\n",
    "coll_post_detail = db['post_detail']"
   ]
  },
  {
   "cell_type": "code",
   "execution_count": 500,
   "metadata": {
    "collapsed": false,
    "deletable": true,
    "editable": true
   },
   "outputs": [],
   "source": [
    "import numpy as np\n",
    "import pandas as pd"
   ]
  },
  {
   "cell_type": "code",
   "execution_count": 3030,
   "metadata": {
    "collapsed": false,
    "deletable": true,
    "editable": true
   },
   "outputs": [],
   "source": [
    "import jieba\n",
    "import jieba.analyse"
   ]
  },
  {
   "cell_type": "code",
   "execution_count": 37,
   "metadata": {
    "collapsed": false,
    "deletable": true,
    "editable": true
   },
   "outputs": [],
   "source": [
    "with open('fid_list_4.json') as d:\n",
    "    all_fid_list = json.load(d)"
   ]
  },
  {
   "cell_type": "code",
   "execution_count": 4235,
   "metadata": {
    "collapsed": true,
    "deletable": true,
    "editable": true
   },
   "outputs": [],
   "source": [
    "jieba.set_dictionary(\"dict.txt.big\")\n",
    "stop_words_path = \"data/household_stop_words.txt\"\n",
    "jieba.analyse.set_stop_words(stop_words_path)"
   ]
  },
  {
   "cell_type": "code",
   "execution_count": 51,
   "metadata": {
    "collapsed": false,
    "deletable": true,
    "editable": true
   },
   "outputs": [],
   "source": [
    "def pp(o):\n",
    "    print json.dumps(o,indent=1,ensure_ascii=False)"
   ]
  },
  {
   "cell_type": "code",
   "execution_count": 40,
   "metadata": {
    "collapsed": true,
    "deletable": true,
    "editable": true
   },
   "outputs": [],
   "source": [
    "def get_combined_message_by_label(X_array, y_array, label):\n",
    "    nd_X = np.array(X_array)\n",
    "    nd_y = np.array(y_array)\n",
    "    words = \"\"\n",
    "    for p in nd_X[nd_y==label]:\n",
    "        if p['message'] is not None:\n",
    "            words = words + p['message']\n",
    "    return words"
   ]
  },
  {
   "cell_type": "code",
   "execution_count": 346,
   "metadata": {
    "collapsed": true,
    "deletable": true,
    "editable": true
   },
   "outputs": [],
   "source": [
    "def get_keyword(X_array, y_array, label):\n",
    "    combined_message = get_combined_message_by_label(X_array, y_array, label)\n",
    "    return jieba.analyse.extract_tags(combined_message, 20)"
   ]
  },
  {
   "cell_type": "markdown",
   "metadata": {
    "deletable": true,
    "editable": true
   },
   "source": [
    "### -----------------above functions are global functions----------"
   ]
  },
  {
   "cell_type": "code",
   "execution_count": 2403,
   "metadata": {
    "collapsed": false,
    "deletable": true,
    "editable": true
   },
   "outputs": [],
   "source": [
    "class industry_data:\n",
    "    def __init__(self,industry_name_list,all_fid_list,file_name=None):\n",
    "        self.name_list = industry_name_list\n",
    "        self.name_abbr = file_name\n",
    "        self.all_fid_list = all_fid_list\n",
    "        self.fid_list = None\n",
    "        self.posts = None\n",
    "        self.train_post = None\n",
    "        self.train_label = None\n",
    "        self.test_post = None\n",
    "        self.test_label = None\n",
    "    def get_name(self):\n",
    "        name = \"\"\n",
    "        if self.name_abbr == None:\n",
    "            for i in self.name_list:\n",
    "                name = name + i.rsplit(' ')[0]\n",
    "            self.name_abbr = name\n",
    "        return self.name_abbr\n",
    "    def get_fid_list(self,refresh=False):\n",
    "        if self.fid_list == None or refresh == True:\n",
    "            fid_list = []\n",
    "            for f in self.all_fid_list:\n",
    "                if f['category'] in self.name_list:\n",
    "                    fid_list.append(f['fid'])\n",
    "            self.fid_list = fid_list\n",
    "        return self.fid_list\n",
    "    def get_posts(self,refresh=False):\n",
    "        fid_list = self.get_fid_list()\n",
    "        if self.posts == None or refresh == True:\n",
    "            posts = []\n",
    "            for f in fid_list:\n",
    "                posts = posts + [p for p in coll_post.find({\"fid\":f},{'date':False,'_id':False})]\n",
    "            self.posts = posts\n",
    "        return self.posts\n",
    "    def get_train_post_label(self,sample_number=50,refresh=False):\n",
    "        self.train_label == None\n",
    "        if self.train_post == None or self.train_label == None or refresh == True:\n",
    "            file_name = 'data/train_data_'+self.get_name()+'.json'\n",
    "            if refresh == True or (not os.path.isfile(file_name)):\n",
    "                tmp_dict = {} \n",
    "                posts = self.get_posts()\n",
    "                tmp_dict['train_X'] = [p for p in np.random.choice(posts, 50, replace=False)]\n",
    "                tmp_dict['train_y'] = []\n",
    "                with open(file_name,'w') as outfile:\n",
    "                    json.dump(tmp_dict,outfile)\n",
    "            with open(file_name,'r') as infile:\n",
    "                j_file = json.load(infile)\n",
    "            try:\n",
    "                self.train_post = j_file['train_X']\n",
    "                self.train_label = j_file['train_y']\n",
    "            except:\n",
    "                print \"error occured when accessing\"+file_name+\"[train_X] or [train_y]\"          \n",
    "        return self.train_post,self.train_label\n",
    "    def get_test_post_label(self, sample_number = 50, refresh=False):\n",
    "        self.test_label == None\n",
    "        if self.test_post == None or self.test_label == None or refresh == True:\n",
    "            file_name = 'data/test_data_'+self.get_name()+'.json'\n",
    "            if refresh == True or (not os.path.isfile(file_name)):\n",
    "                tmp_dict = {} \n",
    "                train_X, train_y = self.get_train_post_label()\n",
    "                all_posts = self.get_posts()\n",
    "                posts_without_trainX = [i for i in all_posts if i not in train_X]\n",
    "                tmp_dict['test_X'] = [p for p in np.random.choice(posts_without_trainX, 50, replace=False)]\n",
    "                tmp_dict['test_y'] = []\n",
    "                with open(file_name,'w') as outfile:\n",
    "                    json.dump(tmp_dict,outfile)\n",
    "            with open(file_name,'r') as infile:\n",
    "                j_file = json.load(infile)\n",
    "            try:\n",
    "                self.test_post = j_file['test_X']\n",
    "                self.test_label = j_file['test_y']\n",
    "            except:\n",
    "                print \"error occured when accessing\"+file_name+\"[test_X] or [test_y]\"          \n",
    "        return self.test_post,self.test_label    \n",
    "    def get_keyword_category(self):\n",
    "        X, y = self.get_train_post_label()\n",
    "        keyword_dict = collections.OrderedDict()\n",
    "        if len(X)==len(y) and len(X)!=0:\n",
    "            for i in range(4):\n",
    "                combined_message = get_combined_message_by_label(X, y, i)\n",
    "                keyword_dict['class_'+str(i)] = jieba.analyse.extract_tags(combined_message, 10)\n",
    "        return keyword_dict"
   ]
  },
  {
   "cell_type": "code",
   "execution_count": 4639,
   "metadata": {
    "collapsed": false,
    "deletable": true,
    "editable": true
   },
   "outputs": [],
   "source": [
    "class Classifier:\n",
    "    def __init__(self,industry):\n",
    "        self.name = industry\n",
    "        self.keyword_dict = None\n",
    "    def get_keyword_dict(self,refresh=False):\n",
    "        if self.keyword_dict == None or refresh == True:\n",
    "            file_name = 'data/keyword_'+self.name+'.json'\n",
    "            if os.path.isfile(file_name):\n",
    "                with open(file_name,'r') as infile:\n",
    "                    keyword_file = json.load(infile, object_pairs_hook=OrderedDict)\n",
    "                self.keyword_dict = keyword_file\n",
    "            else:\n",
    "                print file_name+\" doesn't exist\"\n",
    "                return \n",
    "        return self.keyword_dict\n",
    "    def _make_ML_X(self,input_X,print_out=False):\n",
    "        key_dict = self.get_keyword_dict()\n",
    "        ML_X = []\n",
    "        for obj in input_X:\n",
    "            tmp = []\n",
    "            match = []\n",
    "            obj_message = obj['message']\n",
    "            has_message = 0 if obj_message==None else 1\n",
    "            has_vivid = 1 if obj['post_type'] in ['album','photo','cover_photo','video','video_inline',\n",
    "                                                  'image_share','animated_image_share','video_direct_response'] else 0\n",
    "            for k in key_dict:\n",
    "                if obj_message!=None:\n",
    "                    message_jieba = jieba.analyse.extract_tags(obj['message'],0)\n",
    "                    match = list(set(message_jieba).intersection(key_dict[k]))\n",
    "                if print_out:\n",
    "                    print 'match '+k+' : ',','.join(match)\n",
    "                tmp.append(len(match))\n",
    "            if print_out:\n",
    "                print 'has_message : ',has_message\n",
    "                print 'has_vivid : ',has_vivid\n",
    "            tmp.append(has_message)\n",
    "            tmp.append(has_vivid)\n",
    "            tmp[0] = tmp[0]*5 if tmp[0]!=0 else tmp[0]\n",
    "            tmp[4] = tmp[4]*5 if tmp[4]!=0 else tmp[4]\n",
    "            tmp[10] = tmp[10]/3 if tmp[4]!=0 else tmp[10]\n",
    "            ML_X.append(tmp)\n",
    "        return ML_X"
   ]
  },
  {
   "cell_type": "markdown",
   "metadata": {
    "deletable": true,
    "editable": true
   },
   "source": [
    "# Machine Learning Time"
   ]
  },
  {
   "cell_type": "code",
   "execution_count": 1006,
   "metadata": {
    "collapsed": true,
    "deletable": true,
    "editable": true
   },
   "outputs": [],
   "source": [
    "from sklearn import tree"
   ]
  },
  {
   "cell_type": "code",
   "execution_count": 1011,
   "metadata": {
    "collapsed": true,
    "deletable": true,
    "editable": true
   },
   "outputs": [],
   "source": [
    "from sklearn.linear_model import LogisticRegression"
   ]
  },
  {
   "cell_type": "code",
   "execution_count": 4820,
   "metadata": {
    "collapsed": true
   },
   "outputs": [],
   "source": [
    "from sklearn.metrics import classification_report"
   ]
  },
  {
   "cell_type": "code",
   "execution_count": 4936,
   "metadata": {
    "collapsed": true
   },
   "outputs": [],
   "source": [
    "from sklearn import svm"
   ]
  },
  {
   "cell_type": "code",
   "execution_count": 4942,
   "metadata": {
    "collapsed": false,
    "deletable": true,
    "editable": true
   },
   "outputs": [],
   "source": [
    "class ML:\n",
    "    # industry_name is a list obj\n",
    "    def __init__(self,industry_name_list,all_fid_list,file_name=None):\n",
    "        self.industry_obj = industry_data(industry_name_list,all_fid_list,file_name)\n",
    "        self.train_X, self.train_y = self.industry_obj.get_train_post_label()\n",
    "        self.test_X, self.test_y = self.industry_obj.get_test_post_label()\n",
    "        self.classifier = Classifier(self.industry_obj.name_abbr)\n",
    "        self.ML_train_X = self.classifier._make_ML_X(self.train_X)\n",
    "        self.ML_test_X = self.classifier._make_ML_X(self.test_X)\n",
    "        self.model_lg = None\n",
    "        self.model_tree = None\n",
    "        self.model_svm = None\n",
    "    def get_model_tree(self,refresh=False):\n",
    "        if self.model_tree == None or refresh == True:\n",
    "            clf = tree.DecisionTreeClassifier()\n",
    "            clf_model = clf.fit(np.array(self.ML_train_X),np.array(self.train_y))\n",
    "            self.model_tree = clf_model\n",
    "        return self.model_tree\n",
    "    def get_model_lg(self,refresh=False):\n",
    "        if self.model_lg == None or refresh == True:\n",
    "            lg = LogisticRegression()\n",
    "            lg_model = lg.fit(np.array(self.ML_train_X),np.array(self.train_y))\n",
    "            self.model_lg = lg_model\n",
    "        return self.model_lg\n",
    "    def get_model_svm(self,refresh=False):\n",
    "        if self.model_svm == None or refresh == True:\n",
    "            svm_t = svm.SVC()\n",
    "            svm_model = svm_t.fit(np.array(self.ML_train_X),np.array(self.train_y))\n",
    "            self.model_svm = svm_model\n",
    "        return self.model_svm\n",
    "    def _predict(self,ML_X,model='lg'):\n",
    "        prediction = None\n",
    "        if model == \"lg\":\n",
    "            prediction = self.get_model_lg().predict(np.array(ML_X))\n",
    "        elif model == \"tree\":\n",
    "            prediction = self.get_model_tree().predict(np.array(ML_X))\n",
    "        elif model == \"svm\":\n",
    "            prediction = self.get_model_svm().predict(np.array(ML_X))\n",
    "        return prediction\n",
    "    def accuracy(self,ML_X,y,model = 'lg'):\n",
    "        prediction = self._predict(ML_X,model)\n",
    "        accuracy = np.mean(prediction==np.array(y))\n",
    "        correct_idx = np.where(prediction==np.array(y))[0]\n",
    "        incorrect_idx = np.where(prediction!=np.array(y))[0]\n",
    "        print \"accuracy:\",accuracy\n",
    "        print \"correct_idx:\",correct_idx\n",
    "        print \"incorrect_idx:\",incorrect_idx \n",
    "    def checkOne(self,X,y,index,model='lg'):\n",
    "        ML_X = self.classifier._make_ML_X([X[index]],print_out = True)\n",
    "        print \"predict class : \", self._predict(np.reshape(np.array(ML_X),(1,-1)),model)\n",
    "        print \"true class : \", y[index]\n",
    "        print X[index]['message']\n",
    "    def _classification_report(self,ML_X,y,model = 'lg'):\n",
    "        prediction = self._predict(ML_X,model)\n",
    "        target_names = ['class 0', 'class 1', 'class 2','class3']\n",
    "        report = classification_report(y, prediction, target_names=target_names)\n",
    "        return report\n",
    "        "
   ]
  },
  {
   "cell_type": "markdown",
   "metadata": {},
   "source": [
    "# 畫圖 method"
   ]
  },
  {
   "cell_type": "code",
   "execution_count": 4977,
   "metadata": {
    "collapsed": true
   },
   "outputs": [],
   "source": [
    "%matplotlib inline\n",
    "import matplotlib.pyplot as plt"
   ]
  },
  {
   "cell_type": "code",
   "execution_count": 4978,
   "metadata": {
    "collapsed": true
   },
   "outputs": [],
   "source": [
    "from sklearn.metrics import precision_score\n",
    "from sklearn.metrics import recall_score\n",
    "from sklearn.metrics import f1_score"
   ]
  },
  {
   "cell_type": "code",
   "execution_count": 5285,
   "metadata": {
    "collapsed": false
   },
   "outputs": [],
   "source": [
    "from itertools import cycle\n",
    "from sklearn import svm, datasets\n",
    "from sklearn.metrics import precision_recall_curve\n",
    "from sklearn.metrics import average_precision_score\n",
    "from sklearn.model_selection import train_test_split\n",
    "from sklearn.preprocessing import label_binarize\n",
    "from sklearn.multiclass import OneVsRestClassifier"
   ]
  },
  {
   "cell_type": "code",
   "execution_count": 5048,
   "metadata": {
    "collapsed": true
   },
   "outputs": [],
   "source": [
    "model_list = ['lg','tree','svm']"
   ]
  },
  {
   "cell_type": "code",
   "execution_count": 5049,
   "metadata": {
    "collapsed": true
   },
   "outputs": [],
   "source": [
    "# Run classifier\n",
    "classifier = OneVsRestClassifier(LogisticRegression())\n",
    "y_score = classifier.fit(ALL_ML.ML_train_X, ALL_ML.train_y).decision_function(ALL_ML.ML_test_X)"
   ]
  },
  {
   "cell_type": "code",
   "execution_count": 5474,
   "metadata": {
    "collapsed": false
   },
   "outputs": [],
   "source": [
    "def df_table_one(model_list):\n",
    "    raw_data = OrderedDict()\n",
    "    raw_data['score'] = ['Precision','Recall','F-measure','ROC']\n",
    "    for i in model_list:\n",
    "        raw_data[i]=[]\n",
    "        raw_data[i].append(precision_score(ALL_ML.test_y, ALL_ML._predict(ALL_ML.ML_test_X,model =i), average='weighted'))\n",
    "        raw_data[i].append(recall_score(ALL_ML.test_y, ALL_ML._predict(ALL_ML.ML_test_X,model =i), average='weighted'))\n",
    "        raw_data[i].append(f1_score(ALL_ML.test_y, ALL_ML._predict(ALL_ML.ML_test_X,model =i), average='weighted'))\n",
    "        if i == 'lg':\n",
    "            classifier = OneVsRestClassifier(LogisticRegression())\n",
    "        elif i == 'tree':\n",
    "            classifier = OneVsRestClassifier(tree.DecisionTreeClassifier())  \n",
    "        elif i == 'svm':\n",
    "            classifier = OneVsRestClassifier(svm.SVC(probability=True))\n",
    "        y_score = classifier.fit(ALL_ML.ML_train_X, ALL_ML.train_y).predict_proba(ALL_ML.ML_test_X)\n",
    "        tmp_y_score = y_score[~np.isnan(y_score)].reshape(-1,4)\n",
    "        X_ravel = np.array(zip(np.array(ALL_ML.test_y)==0,np.array(ALL_ML.test_y)==1,np.array(ALL_ML.test_y)==2,np.array(ALL_ML.test_y)==3))\n",
    "        tmp_X = X_ravel[~np.isnan(y_score)].reshape(-1,4)\n",
    "        raw_data[i].append(average_precision_score(tmp_X, tmp_y_score, average=\"weighted\"))\n",
    "    df = pd.DataFrame(raw_data,columns = ['score','lg','tree','svm'])\n",
    "    return df"
   ]
  },
  {
   "cell_type": "code",
   "execution_count": 5275,
   "metadata": {
    "collapsed": false
   },
   "outputs": [],
   "source": [
    "def autolabel(rects,ax):\n",
    "    \"\"\"\n",
    "    Attach a text label above each bar displaying its height\n",
    "    \"\"\"\n",
    "    for rect in rects:\n",
    "        height = rect.get_height()\n",
    "        ax.text(rect.get_x() + rect.get_width()/2., 1.01*height,\"%.2f\" % height,ha='center', va='bottom')\n",
    "    return\n",
    "\n",
    "def precision_recall_bar(model_list):\n",
    "    df = df_table_one(model_list)\n",
    "# Setting the positions and width for the bars\n",
    "    pos = list(range(len(df['lg'])))\n",
    "    width = 0.25\n",
    "\n",
    "# Plotting the bars\n",
    "    fig, ax = plt.subplots(figsize=(10,5))\n",
    "\n",
    "    rects1 = ax.bar(pos,\n",
    "        df['lg'],\n",
    "        width,\n",
    "        alpha=0.5,\n",
    "        color='#EE3224',\n",
    "        label=df['score'][0])\n",
    "\n",
    "    rects2 = ax.bar([p + width for p in pos],\n",
    "        df['tree'],\n",
    "        width,\n",
    "        alpha=0.5,\n",
    "        color='#F78F1E',\n",
    "        label=df['score'][1])\n",
    "\n",
    "    rects3 = ax.bar([p + width*2 for p in pos],\n",
    "        df['svm'],\n",
    "        width,\n",
    "        alpha=0.5,\n",
    "        color='#FFC222',\n",
    "        label=df['score'][2])\n",
    "\n",
    "# ax.set_ylabel('Score')\n",
    "# ax.set_title('Test Subject Scores')\n",
    "\n",
    "# Set the position of the x ticks\n",
    "    ax.set_xticks([p + width for p in pos])\n",
    "\n",
    "# Set the labels for the x ticks\n",
    "    ax.set_xticklabels(df['score'])\n",
    "\n",
    "# Setting the x-axis and y-axis limits\n",
    "    plt.xlim(min(pos)-width*2, max(pos)+width*3)\n",
    "    plt.ylim([0, 1] )\n",
    "\n",
    "\n",
    "    autolabel(rects1,ax)\n",
    "    autolabel(rects2,ax)        \n",
    "    autolabel(rects3,ax)        \n",
    "\n",
    "# Adding the legend and showing the plot\n",
    "    plt.legend(['LogisticRegression', 'DecisionTree', 'SVM'], loc='lower left')\n",
    "    plt.grid()\n",
    "    plt.show()"
   ]
  },
  {
   "cell_type": "code",
   "execution_count": 5476,
   "metadata": {
    "collapsed": false
   },
   "outputs": [],
   "source": [
    "def _precision_recall_curve(model_list):\n",
    "    average_curve_data = OrderedDict()\n",
    "    colors = cycle(['navy', 'turquoise', 'darkorange'])\n",
    "    lw = 2\n",
    "    y = ALL_ML.train_y+ALL_ML.test_y\n",
    "    # Binarize the output\n",
    "    y = label_binarize(y, classes=[0, 1, 2, 3])\n",
    "    n_classes = y.shape[1]\n",
    "    plt.clf()\n",
    "    for i,color in zip(model_list,colors):\n",
    "        if i == 'lg':\n",
    "            classifier = OneVsRestClassifier(LogisticRegression())\n",
    "        elif i == 'tree':\n",
    "            classifier = OneVsRestClassifier(tree.DecisionTreeClassifier())  \n",
    "        elif i == 'svm':\n",
    "            classifier = OneVsRestClassifier(svm.SVC(probability=True))\n",
    "        y_score = classifier.fit(ALL_ML.ML_train_X, ALL_ML.train_y).predict_proba(ALL_ML.ML_test_X)\n",
    "        # rule out NaN\n",
    "        tmp_y_score = y_score[~np.isnan(y_score)].reshape(-1,4)\n",
    "        X_ravel = np.array(zip(np.array(ALL_ML.test_y)==0,np.array(ALL_ML.test_y)==1,np.array(ALL_ML.test_y)==2,np.array(ALL_ML.test_y)==3))\n",
    "        tmp_X = X_ravel[~np.isnan(y_score)].reshape(-1,4)\n",
    "\n",
    "    # Compute micro-average ROC curve, ROC area and breakeven point\n",
    "        precision[\"micro\"], recall[\"micro\"], _ = precision_recall_curve(tmp_X.ravel(),tmp_y_score.ravel())\n",
    "        average_precision[\"micro\"] = average_precision_score(tmp_X, tmp_y_score,average=\"weighted\")\n",
    "    # Draw intersection line          \n",
    "        x = recall[\"micro\"]\n",
    "        y = recall[\"micro\"]\n",
    "        plt.plot(x,y,  '-')\n",
    "        breakeven_idx = np.argwhere(np.diff(np.sign(precision[\"micro\"] - y)) != 0).reshape(-1) + 0\n",
    "    # Plot Precision-Recall curve for each class\n",
    "        plt.plot(recall[\"micro\"], precision[\"micro\"], color=color, lw=lw,\n",
    "                label= i +' (breakeven point = {0:0.2f})'\n",
    "               .format(precision[\"micro\"][breakeven_idx][0]))\n",
    "    plt.xlim([0.0, 1.0])\n",
    "    plt.ylim([0.0, 1.05])\n",
    "    plt.xlabel('Recall')\n",
    "    plt.ylabel('Precision')\n",
    "    plt.title('Precision-Recall curve')\n",
    "    plt.legend(loc=\"lower right\")\n",
    "    plt.show()"
   ]
  },
  {
   "cell_type": "markdown",
   "metadata": {
    "collapsed": true,
    "deletable": true,
    "editable": true
   },
   "source": [
    "# All dataset"
   ]
  },
  {
   "cell_type": "code",
   "execution_count": 4944,
   "metadata": {
    "collapsed": false,
    "deletable": true,
    "editable": true
   },
   "outputs": [],
   "source": [
    "ALL_ML = ML([\"all\"],all_fid_list,file_name = \"all\")"
   ]
  },
  {
   "cell_type": "code",
   "execution_count": 5478,
   "metadata": {
    "collapsed": false,
    "deletable": true,
    "editable": true
   },
   "outputs": [
    {
     "name": "stdout",
     "output_type": "stream",
     "text": [
      "accuracy: 0.9\n",
      "correct_idx: [  0   1   2   3   4   6   8   9  10  11  12  13  14  15  16  17  18  20\n",
      "  21  23  24  26  27  28  29  30  31  32  33  34  35  36  37  38  39  40\n",
      "  41  42  43  44  45  46  47  48  49  50  51  52  53  54  55  56  57  58\n",
      "  59  61  62  63  64  66  67  68  69  70  72  73  74  77  78  79  80  81\n",
      "  82  83  84  85  86  87  88  90  91  92  93  94  95  96  97  98  99 100\n",
      " 101 103 104 105 106 107 108 109 110 111 112 113 114 115 116 119 120 122\n",
      " 123 125 126 127 128 129 130 131 132 133 134 135 136 137 138 139 140 141\n",
      " 142 143 145 146 147 148 149 152 153 154 155 156 157 158 159 160 161 162\n",
      " 163 164 165 166 167 168 169 171 172 173 174 175 176 177 178 179 180 181\n",
      " 182 183 184 185 186 187 188 189 190 191 192 193 194 195 196 197 198 199]\n",
      "incorrect_idx: [  5   7  19  22  25  60  65  71  75  76  89 102 117 118 121 124 144 150\n",
      " 151 170]\n",
      "None\n",
      "accuracy: 0.845\n",
      "correct_idx: [  1   2   3   4   8   9  10  11  12  13  14  16  17  18  20  21  23  24\n",
      "  25  26  27  28  29  30  32  33  35  36  37  38  39  40  41  42  43  44\n",
      "  45  46  47  49  50  52  53  54  55  56  57  58  59  60  61  62  63  64\n",
      "  65  66  67  68  69  70  73  74  77  78  80  81  82  84  85  86  87  90\n",
      "  91  92  93  95  96  97  98  99 100 101 103 104 105 106 107 108 109 110\n",
      " 111 112 113 114 115 116 119 120 121 122 123 124 125 126 127 128 130 131\n",
      " 132 133 134 135 136 137 138 139 140 141 143 145 147 148 149 150 152 153\n",
      " 154 155 156 157 158 159 161 162 163 164 165 166 167 168 169 171 172 173\n",
      " 174 175 176 177 178 179 180 182 183 184 185 186 187 188 189 190 191 192\n",
      " 193 194 195 196 197 198 199]\n",
      "incorrect_idx: [  0   5   6   7  15  19  22  31  34  48  51  71  72  75  76  79  83  88\n",
      "  89  94 102 117 118 129 142 144 146 151 160 170 181]\n",
      "None\n",
      "accuracy: 0.835\n",
      "correct_idx: [  0   1   2   3   4   6   8   9  10  11  14  15  16  17  18  20  21  22\n",
      "  24  25  27  28  29  30  32  33  34  35  37  38  39  40  43  44  45  46\n",
      "  47  48  49  50  53  54  55  56  57  58  59  61  62  63  64  66  67  68\n",
      "  69  70  73  74  77  78  79  80  81  82  84  85  86  88  90  91  92  93\n",
      "  94  95  96  97  98  99 100 101 103 104 105 106 108 109 110 111 112 113\n",
      " 114 115 116 119 120 121 122 123 124 126 127 128 129 130 131 132 133 134\n",
      " 135 136 137 138 139 140 141 142 143 145 146 147 148 150 152 153 154 155\n",
      " 156 157 158 159 160 161 162 163 164 165 166 167 168 169 171 173 174 175\n",
      " 176 177 178 179 180 181 182 183 184 185 187 188 189 190 191 192 193 194\n",
      " 195 196 197 198 199]\n",
      "incorrect_idx: [  5   7  12  13  19  23  26  31  36  41  42  51  52  60  65  71  72  75\n",
      "  76  83  87  89 102 107 117 118 125 144 149 151 170 172 186]\n",
      "None\n"
     ]
    }
   ],
   "source": [
    "print ALL_ML.accuracy(ALL_ML.ML_test_X, ALL_ML.test_y,\"lg\")\n",
    "print ALL_ML.accuracy(ALL_ML.ML_test_X, ALL_ML.test_y,\"tree\")\n",
    "print ALL_ML.accuracy(ALL_ML.ML_test_X, ALL_ML.test_y,\"svm\")"
   ]
  },
  {
   "cell_type": "code",
   "execution_count": 5468,
   "metadata": {
    "collapsed": false
   },
   "outputs": [
    {
     "name": "stdout",
     "output_type": "stream",
     "text": [
      "             precision    recall  f1-score   support\n",
      "\n",
      "    class 0       0.90      0.93      0.91        40\n",
      "    class 1       0.96      0.86      0.90        76\n",
      "    class 2       0.85      0.95      0.90        41\n",
      "     class3       0.87      0.91      0.89        43\n",
      "\n",
      "avg / total       0.90      0.90      0.90       200\n",
      "\n",
      "             precision    recall  f1-score   support\n",
      "\n",
      "    class 0       0.75      0.82      0.79        40\n",
      "    class 1       0.95      0.76      0.85        76\n",
      "    class 2       0.90      0.90      0.90        41\n",
      "     class3       0.76      0.95      0.85        43\n",
      "\n",
      "avg / total       0.86      0.84      0.85       200\n",
      "\n",
      "             precision    recall  f1-score   support\n",
      "\n",
      "    class 0       0.80      0.88      0.83        40\n",
      "    class 1       0.92      0.71      0.80        76\n",
      "    class 2       0.88      0.90      0.89        41\n",
      "     class3       0.75      0.95      0.84        43\n",
      "\n",
      "avg / total       0.85      0.83      0.83       200\n",
      "\n"
     ]
    }
   ],
   "source": [
    "print ALL_ML._classification_report(ALL_ML.ML_test_X, ALL_ML.test_y,\"lg\")\n",
    "print ALL_ML._classification_report(ALL_ML.ML_test_X, ALL_ML.test_y,\"tree\")\n",
    "print ALL_ML._classification_report(ALL_ML.ML_test_X, ALL_ML.test_y,\"svm\")"
   ]
  },
  {
   "cell_type": "code",
   "execution_count": 5475,
   "metadata": {
    "collapsed": false
   },
   "outputs": [
    {
     "data": {
      "image/png": "[encoded data removed]",
      "text/plain": [
       "<matplotlib.figure.Figure at 0x11ce59dd0>"
      ]
     },
     "metadata": {},
     "output_type": "display_data"
    }
   ],
   "source": [
    "precision_recall_bar(model_list)"
   ]
  },
  {
   "cell_type": "code",
   "execution_count": 5477,
   "metadata": {
    "collapsed": false
   },
   "outputs": [
    {
     "data": {
      "image/png": "[encoded data removed]",
      "text/plain": [
       "<matplotlib.figure.Figure at 0x11d5bdb90>"
      ]
     },
     "metadata": {},
     "output_type": "display_data"
    }
   ],
   "source": [
    "_precision_recall_curve(model_list)"
   ]
  },
  {
   "cell_type": "code",
   "execution_count": 5257,
   "metadata": {
    "collapsed": false,
    "deletable": true,
    "editable": true
   },
   "outputs": [],
   "source": [
    "#ALL_ML.checkOne(ALL_ML.test_X,ALL_ML.test_y,10,\"lg\")"
   ]
  },
  {
   "cell_type": "markdown",
   "metadata": {
    "deletable": true,
    "editable": true
   },
   "source": [
    "# update class function"
   ]
  },
  {
   "cell_type": "code",
   "execution_count": 4692,
   "metadata": {
    "collapsed": false,
    "deletable": true,
    "editable": true
   },
   "outputs": [],
   "source": [
    "update_class(f_file,\"data/train_data_all.json\",151,1)"
   ]
  },
  {
   "cell_type": "code",
   "execution_count": 4683,
   "metadata": {
    "collapsed": true,
    "deletable": true,
    "editable": true
   },
   "outputs": [],
   "source": [
    "with open(\"data/train_data_all.json\") as ff:\n",
    "    f_file = json.load(ff)"
   ]
  },
  {
   "cell_type": "code",
   "execution_count": 4684,
   "metadata": {
    "collapsed": true,
    "deletable": true,
    "editable": true
   },
   "outputs": [],
   "source": [
    "def update_class(loaded_file, file_name, index,new_class):\n",
    "    loaded_file['train_y'][index] = new_class\n",
    "    with open(file_name,'w') as o_ff:\n",
    "        json.dump(loaded_file,o_ff)"
   ]
  },
  {
   "cell_type": "code",
   "execution_count": 4800,
   "metadata": {
    "collapsed": false,
    "deletable": true,
    "editable": true
   },
   "outputs": [
    {
     "name": "stdout",
     "output_type": "stream",
     "text": [
      "兒童,免費,FRIDAYS,兒童節,優惠,消費,活動,TGI,餐廳,餐點,招待,餐券,古亭,服務費,tgifridays,歡慶,頁面,辦法,時代,請見\n"
     ]
    }
   ],
   "source": [
    "print ','.join(jieba.analyse.extract_tags(ALL_ML.test_X[0]['message'], 20))"
   ]
  },
  {
   "cell_type": "code",
   "execution_count": 4801,
   "metadata": {
    "collapsed": false,
    "deletable": true,
    "editable": true
   },
   "outputs": [
    {
     "name": "stdout",
     "output_type": "stream",
     "text": [
      "把拔馬麻們注意囉📢📢📢 \n",
      "🎉 歡慶兒童節🎉 \n",
      "TGI FRIDAYS Taiwan要請小朋友們吃免費兒童餐喔！ \n",
      "\n",
      "4/4兒童節當天用餐並出示此活動頁面👆， \n",
      "於指定餐廳 (美麗華、西門、古亭、林森、桃園、 \n",
      "台中市政、台中英才、台南新天地、高雄夢時代) \n",
      "☝消費滿1000元，免費招待1份兒童餐點！ \n",
      "✌消費滿2000元，免費招待2份兒童餐點！ (以此類推) \n",
      "\n",
      "爸爸媽媽們快點帶家裡的寶貝們到FRIDAYS慶祝兒童節喔！🎉🎈 \n",
      "各餐廳訂位電話與營業時間請見：http://www.tgifridays.com.tw/store.php\n",
      "\n",
      "※兒童餐優惠僅提供12歲以下兒童享用。 \n",
      "※贈送品項需加收原價之10%服務費。 \n",
      "※不得與EZ Table餐券、網路會員優惠或其它優惠活動同時使用。 \n",
      "※不得折現或外帶，TGI FRIDAYS保有修改活動辦法之權利\n"
     ]
    }
   ],
   "source": [
    "print ALL_ML.test_X[0]['message']"
   ]
  },
  {
   "cell_type": "markdown",
   "metadata": {
    "collapsed": true,
    "deletable": true,
    "editable": true
   },
   "source": []
  }
 ],
 "metadata": {
  "kernelspec": {
   "display_name": "Python 2",
   "language": "python",
   "name": "python2"
  },
  "language_info": {
   "codemirror_mode": {
    "name": "ipython",
    "version": 2
   },
   "file_extension": ".py",
   "mimetype": "text/x-python",
   "name": "python",
   "nbconvert_exporter": "python",
   "pygments_lexer": "ipython2",
   "version": "2.7.10"
  }
 },
 "nbformat": 4,
 "nbformat_minor": 2
}
