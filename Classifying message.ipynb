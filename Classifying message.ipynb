{
 "cells": [
  {
   "cell_type": "code",
   "execution_count": 39,
   "metadata": {
    "collapsed": true,
    "deletable": true,
    "editable": true
   },
   "outputs": [],
   "source": [
    "#0 : Promotional  5.33% 折扣、下殺 特價。。。\n",
    "#1: Engagement  31.56%   按讚、打卡 分享。。。\n",
    "#2: Product Awareness  28% (產品) “new product” 系列、首發、新登場、開箱、推薦 新一代 進化版\n",
    "#3: Brand Awareness 8.44%（品牌）\n",
    "#Corporate Social Responsibility 5.33%\n",
    "#Customer Service 3.11% (粉絲) 服務 品管\n",
    "#Seasonal 18.67%     開學、情人節\n"
   ]
  },
  {
   "cell_type": "code",
   "execution_count": 2933,
   "metadata": {
    "collapsed": true,
    "deletable": true,
    "editable": true
   },
   "outputs": [],
   "source": [
    "import collections\n",
    "from collections import OrderedDict"
   ]
  },
  {
   "cell_type": "code",
   "execution_count": 772,
   "metadata": {
    "collapsed": true,
    "deletable": true,
    "editable": true
   },
   "outputs": [],
   "source": [
    "from pymongo import MongoClient\n",
    "import json\n",
    "import os.path\n",
    "from numpy import array"
   ]
  },
  {
   "cell_type": "code",
   "execution_count": 35,
   "metadata": {
    "collapsed": true,
    "deletable": true,
    "editable": true
   },
   "outputs": [],
   "source": [
    "client = MongoClient('mongodb://localhost:27017/')"
   ]
  },
  {
   "cell_type": "code",
   "execution_count": 36,
   "metadata": {
    "collapsed": true,
    "deletable": true,
    "editable": true
   },
   "outputs": [],
   "source": [
    "db = client['fanpage_research']\n",
    "coll_fanpage = db['fanpage']\n",
    "coll_post = db['post']\n",
    "coll_post_detail = db['post_detail']"
   ]
  },
  {
   "cell_type": "code",
   "execution_count": 500,
   "metadata": {
    "collapsed": false,
    "deletable": true,
    "editable": true
   },
   "outputs": [],
   "source": [
    "import numpy as np\n",
    "import pandas as pd"
   ]
  },
  {
   "cell_type": "code",
   "execution_count": 3030,
   "metadata": {
    "collapsed": false,
    "deletable": true,
    "editable": true
   },
   "outputs": [],
   "source": [
    "import jieba\n",
    "import jieba.analyse"
   ]
  },
  {
   "cell_type": "code",
   "execution_count": 37,
   "metadata": {
    "collapsed": false,
    "deletable": true,
    "editable": true
   },
   "outputs": [],
   "source": [
    "with open('fid_list_4.json') as d:\n",
    "    all_fid_list = json.load(d)"
   ]
  },
  {
   "cell_type": "code",
   "execution_count": 4235,
   "metadata": {
    "collapsed": true,
    "deletable": true,
    "editable": true
   },
   "outputs": [],
   "source": [
    "jieba.set_dictionary(\"dict.txt.big\")\n",
    "stop_words_path = \"data/household_stop_words.txt\"\n",
    "jieba.analyse.set_stop_words(stop_words_path)"
   ]
  },
  {
   "cell_type": "code",
   "execution_count": 51,
   "metadata": {
    "collapsed": false,
    "deletable": true,
    "editable": true
   },
   "outputs": [],
   "source": [
    "def pp(o):\n",
    "    print json.dumps(o,indent=1,ensure_ascii=False)"
   ]
  },
  {
   "cell_type": "code",
   "execution_count": 40,
   "metadata": {
    "collapsed": true,
    "deletable": true,
    "editable": true
   },
   "outputs": [],
   "source": [
    "def get_combined_message_by_label(X_array, y_array, label):\n",
    "    nd_X = np.array(X_array)\n",
    "    nd_y = np.array(y_array)\n",
    "    words = \"\"\n",
    "    for p in nd_X[nd_y==label]:\n",
    "        if p['message'] is not None:\n",
    "            words = words + p['message']\n",
    "    return words"
   ]
  },
  {
   "cell_type": "code",
   "execution_count": 346,
   "metadata": {
    "collapsed": true,
    "deletable": true,
    "editable": true
   },
   "outputs": [],
   "source": [
    "def get_keyword(X_array, y_array, label):\n",
    "    combined_message = get_combined_message_by_label(X_array, y_array, label)\n",
    "    return jieba.analyse.extract_tags(combined_message, 20)"
   ]
  },
  {
   "cell_type": "markdown",
   "metadata": {
    "deletable": true,
    "editable": true
   },
   "source": [
    "### -----------------above functions are global functions----------"
   ]
  },
  {
   "cell_type": "code",
   "execution_count": 2403,
   "metadata": {
    "collapsed": false,
    "deletable": true,
    "editable": true
   },
   "outputs": [],
   "source": [
    "class industry_data:\n",
    "    def __init__(self,industry_name_list,all_fid_list,file_name=None):\n",
    "        self.name_list = industry_name_list\n",
    "        self.name_abbr = file_name\n",
    "        self.all_fid_list = all_fid_list\n",
    "        self.fid_list = None\n",
    "        self.posts = None\n",
    "        self.train_post = None\n",
    "        self.train_label = None\n",
    "        self.test_post = None\n",
    "        self.test_label = None\n",
    "    def get_name(self):\n",
    "        name = \"\"\n",
    "        if self.name_abbr == None:\n",
    "            for i in self.name_list:\n",
    "                name = name + i.rsplit(' ')[0]\n",
    "            self.name_abbr = name\n",
    "        return self.name_abbr\n",
    "    def get_fid_list(self,refresh=False):\n",
    "        if self.fid_list == None or refresh == True:\n",
    "            fid_list = []\n",
    "            for f in self.all_fid_list:\n",
    "                if f['category'] in self.name_list:\n",
    "                    fid_list.append(f['fid'])\n",
    "            self.fid_list = fid_list\n",
    "        return self.fid_list\n",
    "    def get_posts(self,refresh=False):\n",
    "        fid_list = self.get_fid_list()\n",
    "        if self.posts == None or refresh == True:\n",
    "            posts = []\n",
    "            for f in fid_list:\n",
    "                posts = posts + [p for p in coll_post.find({\"fid\":f},{'date':False,'_id':False})]\n",
    "            self.posts = posts\n",
    "        return self.posts\n",
    "    def get_train_post_label(self,sample_number=50,refresh=False):\n",
    "        self.train_label == None\n",
    "        if self.train_post == None or self.train_label == None or refresh == True:\n",
    "            file_name = 'data/train_data_'+self.get_name()+'.json'\n",
    "            if refresh == True or (not os.path.isfile(file_name)):\n",
    "                tmp_dict = {} \n",
    "                posts = self.get_posts()\n",
    "                tmp_dict['train_X'] = [p for p in np.random.choice(posts, 50, replace=False)]\n",
    "                tmp_dict['train_y'] = []\n",
    "                with open(file_name,'w') as outfile:\n",
    "                    json.dump(tmp_dict,outfile)\n",
    "            with open(file_name,'r') as infile:\n",
    "                j_file = json.load(infile)\n",
    "            try:\n",
    "                self.train_post = j_file['train_X']\n",
    "                self.train_label = j_file['train_y']\n",
    "            except:\n",
    "                print \"error occured when accessing\"+file_name+\"[train_X] or [train_y]\"          \n",
    "        return self.train_post,self.train_label\n",
    "    def get_test_post_label(self, sample_number = 50, refresh=False):\n",
    "        self.test_label == None\n",
    "        if self.test_post == None or self.test_label == None or refresh == True:\n",
    "            file_name = 'data/test_data_'+self.get_name()+'.json'\n",
    "            if refresh == True or (not os.path.isfile(file_name)):\n",
    "                tmp_dict = {} \n",
    "                train_X, train_y = self.get_train_post_label()\n",
    "                all_posts = self.get_posts()\n",
    "                posts_without_trainX = [i for i in all_posts if i not in train_X]\n",
    "                tmp_dict['test_X'] = [p for p in np.random.choice(posts_without_trainX, 50, replace=False)]\n",
    "                tmp_dict['test_y'] = []\n",
    "                with open(file_name,'w') as outfile:\n",
    "                    json.dump(tmp_dict,outfile)\n",
    "            with open(file_name,'r') as infile:\n",
    "                j_file = json.load(infile)\n",
    "            try:\n",
    "                self.test_post = j_file['test_X']\n",
    "                self.test_label = j_file['test_y']\n",
    "            except:\n",
    "                print \"error occured when accessing\"+file_name+\"[test_X] or [test_y]\"          \n",
    "        return self.test_post,self.test_label    \n",
    "    def get_keyword_category(self):\n",
    "        X, y = self.get_train_post_label()\n",
    "        keyword_dict = collections.OrderedDict()\n",
    "        if len(X)==len(y) and len(X)!=0:\n",
    "            for i in range(4):\n",
    "                combined_message = get_combined_message_by_label(X, y, i)\n",
    "                keyword_dict['class_'+str(i)] = jieba.analyse.extract_tags(combined_message, 10)\n",
    "        return keyword_dict"
   ]
  },
  {
   "cell_type": "code",
   "execution_count": 4639,
   "metadata": {
    "collapsed": false,
    "deletable": true,
    "editable": true
   },
   "outputs": [],
   "source": [
    "class Classifier:\n",
    "    def __init__(self,industry):\n",
    "        self.name = industry\n",
    "        self.keyword_dict = None\n",
    "    def get_keyword_dict(self,refresh=False):\n",
    "        if self.keyword_dict == None or refresh == True:\n",
    "            file_name = 'data/keyword_'+self.name+'.json'\n",
    "            if os.path.isfile(file_name):\n",
    "                with open(file_name,'r') as infile:\n",
    "                    keyword_file = json.load(infile, object_pairs_hook=OrderedDict)\n",
    "                self.keyword_dict = keyword_file\n",
    "            else:\n",
    "                print file_name+\" doesn't exist\"\n",
    "                return \n",
    "        return self.keyword_dict\n",
    "    def _make_ML_X(self,input_X,print_out=False):\n",
    "        key_dict = self.get_keyword_dict()\n",
    "        ML_X = []\n",
    "        for obj in input_X:\n",
    "            tmp = []\n",
    "            match = []\n",
    "            obj_message = obj['message']\n",
    "            has_message = 0 if obj_message==None else 1\n",
    "            has_vivid = 1 if obj['post_type'] in ['album','photo','cover_photo','video','video_inline',\n",
    "                                                  'image_share','animated_image_share','video_direct_response'] else 0\n",
    "            for k in key_dict:\n",
    "                if obj_message!=None:\n",
    "                    message_jieba = jieba.analyse.extract_tags(obj['message'],0)\n",
    "                    match = list(set(message_jieba).intersection(key_dict[k]))\n",
    "                if print_out:\n",
    "                    print 'match '+k+' : ',','.join(match)\n",
    "                tmp.append(len(match))\n",
    "            if print_out:\n",
    "                print 'has_message : ',has_message\n",
    "                print 'has_vivid : ',has_vivid\n",
    "            tmp.append(has_message)\n",
    "            tmp.append(has_vivid)\n",
    "            tmp[0] = tmp[0]*5 if tmp[0]!=0 else tmp[0]\n",
    "            tmp[4] = tmp[4]*5 if tmp[4]!=0 else tmp[4]\n",
    "            tmp[10] = tmp[10]/3 if tmp[4]!=0 else tmp[10]\n",
    "            ML_X.append(tmp)\n",
    "        return ML_X"
   ]
  },
  {
   "cell_type": "markdown",
   "metadata": {
    "deletable": true,
    "editable": true
   },
   "source": [
    "# Machine Learning Time"
   ]
  },
  {
   "cell_type": "code",
   "execution_count": 1006,
   "metadata": {
    "collapsed": true,
    "deletable": true,
    "editable": true
   },
   "outputs": [],
   "source": [
    "from sklearn import tree"
   ]
  },
  {
   "cell_type": "code",
   "execution_count": 1011,
   "metadata": {
    "collapsed": true,
    "deletable": true,
    "editable": true
   },
   "outputs": [],
   "source": [
    "from sklearn.linear_model import LogisticRegression"
   ]
  },
  {
   "cell_type": "code",
   "execution_count": 2404,
   "metadata": {
    "collapsed": false,
    "deletable": true,
    "editable": true
   },
   "outputs": [],
   "source": [
    "class ML:\n",
    "    # industry_name is a list obj\n",
    "    def __init__(self,industry_name_list,all_fid_list,file_name=None):\n",
    "        self.industry_obj = industry_data(industry_name_list,all_fid_list,file_name)\n",
    "        self.train_X, self.train_y = self.industry_obj.get_train_post_label()\n",
    "        self.test_X, self.test_y = self.industry_obj.get_test_post_label()\n",
    "        self.classifier = Classifier(self.industry_obj.name_abbr)\n",
    "        self.ML_train_X = self.classifier._make_ML_X(self.train_X)\n",
    "        self.ML_test_X = self.classifier._make_ML_X(self.test_X)\n",
    "        self.model_lg = None\n",
    "        self.model_tree = None\n",
    "    def get_model_tree(self,refresh=False):\n",
    "        if self.model_tree == None or refresh == True:\n",
    "            clf = tree.DecisionTreeClassifier()\n",
    "            clf_model = clf.fit(np.array(self.ML_train_X),np.array(self.train_y))\n",
    "            self.model_tree = clf_model\n",
    "        return self.model_tree\n",
    "    def get_model_lg(self,refresh=False):\n",
    "        if self.model_lg == None or refresh == True:\n",
    "            lg = LogisticRegression()\n",
    "            lg_model = lg.fit(np.array(self.ML_train_X),np.array(self.train_y))\n",
    "            self.model_lg = lg_model\n",
    "        return self.model_lg\n",
    "    def _predict(self,ML_X,model='lg'):\n",
    "        prediction = None\n",
    "        if model == \"lg\":\n",
    "            prediction = self.get_model_lg().predict(np.array(ML_X))\n",
    "        elif model == \"tree\":\n",
    "            prediction = self.get_model_tree().predict(np.array(ML_X))\n",
    "        return prediction\n",
    "    def accuracy(self,ML_X,y,model = 'lg'):\n",
    "        prediction = self._predict(ML_X,model)\n",
    "        accuracy = np.mean(prediction==np.array(y))\n",
    "        correct_idx = np.where(prediction==np.array(y))[0]\n",
    "        incorrect_idx = np.where(prediction!=np.array(y))[0]\n",
    "        print \"accuracy:\",accuracy\n",
    "        print \"correct_idx:\",correct_idx\n",
    "        print \"incorrect_idx:\",incorrect_idx \n",
    "    def checkOne(self,X,y,index,model='lg'):\n",
    "        ML_X = self.classifier._make_ML_X([X[index]],print_out = True)\n",
    "        print \"predict class : \", self._predict(np.reshape(np.array(ML_X),(1,-1)),model)\n",
    "        print \"true class : \", y[index]\n",
    "        print X[index]['message']"
   ]
  },
  {
   "cell_type": "markdown",
   "metadata": {
    "deletable": true,
    "editable": true
   },
   "source": [
    "# Food"
   ]
  },
  {
   "cell_type": "code",
   "execution_count": 2401,
   "metadata": {
    "collapsed": false,
    "deletable": true,
    "editable": true
   },
   "outputs": [
    {
     "name": "stdout",
     "output_type": "stream",
     "text": [
      "accuracy: 0.92\n",
      "correct_idx: [ 0  1  2  3  4  5  6  7  8 10 11 12 13 14 15 16 17 18 19 20 21 23 24 25 27\n",
      " 28 29 30 31 32 33 34 35 36 37 38 39 40 41 42 43 44 45 46 48 49]\n",
      "incorrect_idx: [ 9 22 26 47]\n",
      "None\n"
     ]
    }
   ],
   "source": [
    "Food_ML = ML(['Alcohol & Tobacco','Beverages','Restaurants','Food'],all_fid_list)\n",
    "print Food_ML.accuracy(Food_ML.ML_test_X, Food_ML.test_y,\"lg\")"
   ]
  },
  {
   "cell_type": "code",
   "execution_count": 2037,
   "metadata": {
    "collapsed": false,
    "deletable": true,
    "editable": true
   },
   "outputs": [
    {
     "name": "stdout",
     "output_type": "stream",
     "text": [
      "match product_test :  \n",
      "match product_new :  \n",
      "match info_event :  \n",
      "match monetary_incentive :  滿額\n",
      "match product_unit :  \n",
      "match price_off :  \n",
      "match engage_other :  \n",
      "match product_version :  \n",
      "match info_brand :  \n",
      "match push_word :  \n",
      "match engage_join :  \n",
      "match engage_interaction :  \n",
      "predict class :  [3]\n",
      "true class :  0\n",
      "忙到沒時間、累到想癱著，可是好想吃東西？\n",
      "外送騎士為您熱食外送，24小時全天候美味不打烊！\n",
      "\n",
      "4/11前歡樂送滿$398送四塊麥克鷄塊！\n",
      "麥當勞24hr 歡樂送讓您暖胃也暖心！\n",
      "\n",
      "滿額雞塊送送送>>http://mcdtw.com/mds/005/ \n",
      "立馬訂餐不囉嗦>>http://mcdtw.com/mds/006/\n"
     ]
    }
   ],
   "source": [
    "Food_ML.checkOne(Food_ML.test_X,Food_ML.test_y,47,\"lg\")"
   ]
  },
  {
   "cell_type": "code",
   "execution_count": 1903,
   "metadata": {
    "collapsed": false,
    "deletable": true,
    "editable": true
   },
   "outputs": [
    {
     "data": {
      "text/plain": [
       "array([11,  5, 10, 24])"
      ]
     },
     "execution_count": 1903,
     "metadata": {},
     "output_type": "execute_result"
    }
   ],
   "source": [
    "np.bincount(Food_ML.train_y)"
   ]
  },
  {
   "cell_type": "markdown",
   "metadata": {
    "deletable": true,
    "editable": true
   },
   "source": [
    "# Household + Retail & 不分keyword list (keyword_all.json)"
   ]
  },
  {
   "cell_type": "code",
   "execution_count": 2399,
   "metadata": {
    "collapsed": false,
    "deletable": true,
    "editable": true
   },
   "outputs": [
    {
     "name": "stdout",
     "output_type": "stream",
     "text": [
      "accuracy: 0.9\n",
      "correct_idx: [ 0  1  2  3  4  5  6  7  8  9 10 11 12 13 14 15 16 17 18 19 20 21 22 23 24\n",
      " 25 27 28 30 31 32 33 34 35 36 37 38 39 40 41 42 43 44 45 46 47 48 49 50 51\n",
      " 53 54 55 56 57 58 59 60 61 62 63 64 65 66 67 68 69 72 73 74 75 76 77 79 80\n",
      " 81 82 83 84 85 86 87 88 89 90 91 92 93 97 98]\n",
      "incorrect_idx: [26 29 52 70 71 78 94 95 96 99]\n",
      "None\n"
     ]
    }
   ],
   "source": [
    "RetailHouse_ML = ML(['Retail','Household & Personal Care'],all_fid_list)\n",
    "print RetailHouse_ML.accuracy(RetailHouse_ML.ML_test_X, RetailHouse_ML.test_y,\"lg\")"
   ]
  },
  {
   "cell_type": "code",
   "execution_count": 1902,
   "metadata": {
    "collapsed": false,
    "deletable": true,
    "editable": true
   },
   "outputs": [
    {
     "name": "stdout",
     "output_type": "stream",
     "text": [
      "match product_test :  \n",
      "match product_new :  \n",
      "match info_event :  \n",
      "match monetary_incentive :  \n",
      "match product_unit :  \n",
      "match price_off :  75折\n",
      "match engage_other :  \n",
      "match product_version :  \n",
      "match info_brand :  \n",
      "match push_word :  \n",
      "match engage_join :  \n",
      "match engage_interaction :  \n",
      "predict class :  [2]\n",
      "true class :  2\n",
      "💢明明很累卻睡不著\n",
      "今晚又要失眠了嗎？😵\n",
      "別沮喪！試試這招↓↓\n",
      "💤睡前用晚安舒眠噴霧\n",
      "對著枕頭、棉被、臥室\n",
      "咻！咻！噴個幾下\n",
      "馬上散發甜橙和薰衣草香氛🍊\n",
      "整個人變得好放鬆\n",
      "今晚一定好好睡！\n",
      "\n",
      "晚安舒眠噴霧2瓶組↘75折\n",
      "https://goo.gl/QanGwx\n",
      "\n",
      "轉載自華人健康網\n",
      "\n",
      " — Products shown: 晚安舒眠噴霧2瓶組.\n"
     ]
    }
   ],
   "source": [
    "RetailHouse_ML.checkOne(RetailHouse_ML.test_X,RetailHouse_ML.test_y,2,\"lg\")"
   ]
  },
  {
   "cell_type": "code",
   "execution_count": 1830,
   "metadata": {
    "collapsed": false,
    "deletable": true,
    "editable": true
   },
   "outputs": [
    {
     "data": {
      "text/plain": [
       "array([16, 19, 36, 29])"
      ]
     },
     "execution_count": 1830,
     "metadata": {},
     "output_type": "execute_result"
    }
   ],
   "source": [
    "np.bincount(RetailHouse.train_y)"
   ]
  },
  {
   "cell_type": "markdown",
   "metadata": {
    "deletable": true,
    "editable": true
   },
   "source": [
    "# Tech"
   ]
  },
  {
   "cell_type": "code",
   "execution_count": 2204,
   "metadata": {
    "collapsed": false,
    "deletable": true,
    "editable": true
   },
   "outputs": [
    {
     "name": "stdout",
     "output_type": "stream",
     "text": [
      "accuracy: 0.9\n",
      "correct_idx: [ 0  1  2  3  4  5  6  7  8 10 11 12 13 14 15 16 17 18]\n",
      "incorrect_idx: [ 9 19]\n"
     ]
    }
   ],
   "source": [
    "tech_md = ML(['Consumer Electronics','Computer Hardware','Computer software','Media & Telecommunications'],all_fid_list)\n",
    "tech_md.accuracy(tech_md.ML_test_X,tech_md.test_y)"
   ]
  },
  {
   "cell_type": "code",
   "execution_count": 2174,
   "metadata": {
    "collapsed": false,
    "deletable": true,
    "editable": true
   },
   "outputs": [
    {
     "name": "stdout",
     "output_type": "stream",
     "text": [
      "match product_test :  \n",
      "match product_new :  \n",
      "match info_event :  \n",
      "match social_responsibility :  \n",
      "match monetary_incentive :  超值,優惠\n",
      "match product_unit :  \n",
      "match price_off :  \n",
      "match engage_other :  \n",
      "match product_version :  \n",
      "match info_brand :  \n",
      "match push_word :  \n",
      "match seasonal :  \n",
      "match engage_join :  \n",
      "match engage_interaction :  \n",
      "match to_fans :  \n",
      "predict class :  [0]\n",
      "true class :  0\n",
      "#母親節優惠預告【專業廚房創意不受限】\n",
      "傳統爐具總讓你做菜時綁手綁腳？伊萊克斯感應爐超彈性，適用任何形狀的鍋具，盡情發揮烹飪創意😀\n",
      "快趁即將到來的母親節，為媽媽打造專業廚房💕優惠再贈超值贈品 goo.gl/M2BoCF\n"
     ]
    }
   ],
   "source": [
    "tech_md.checkOne(tech_md.train_X,tech_md.train_y,19,\"lg\")"
   ]
  },
  {
   "cell_type": "code",
   "execution_count": 2170,
   "metadata": {
    "collapsed": false,
    "deletable": true,
    "editable": true
   },
   "outputs": [
    {
     "data": {
      "text/plain": [
       "array([ 7,  8, 45, 20])"
      ]
     },
     "execution_count": 2170,
     "metadata": {},
     "output_type": "execute_result"
    }
   ],
   "source": [
    "np.bincount(tech_md.train_y)"
   ]
  },
  {
   "cell_type": "code",
   "execution_count": 2155,
   "metadata": {
    "collapsed": false,
    "deletable": true,
    "editable": true
   },
   "outputs": [
    {
     "name": "stdout",
     "output_type": "stream",
     "text": [
      "300R,XDP,Pioneer,音樂,播放器,體驗,心得,開箱,Res,Hi,No,耳機,fb,解析,評測,活動,SE,得主,感動,DAC,內外,優選,饗宴,特優,先鋒,聆聽,PIONEER,嘉獎,入耳式,數位,高音質,得獎者,恭喜,佳作,分享,滑鼠,次世代,感受,真章,幻彩,耳罩,海恩,XsyvBd,CX7,升級,gfUUHe,回憶,n3x1PF,新體驗,熱烈,考驗,版電,邁入,溫潤,聽感,無損,鑑定,歷經,愛玩,細膩,得獎,測試報告,gJastK,W4HwBu,贈獎,113690249109653,UkJLT6,MHR5,再創,高竿,APS,電子,殺戮,經典,AP8000,價值,擇一,靈魂,加煒,歡呼,電源,鱔魚,帶來,nsx1693,3ckuma,旗艦級,聽見,redcell6,把關,客邦,多媒體,評選,緋色,7scFO3,astutmomo,耀動,音韻,裡的,Mtcmos,處處,tacototoro,小宅,給得,0w8riv,gUqXW1,擴大,來自,100001304907970,dancer,無遠弗屆,嚴格,質感,別有,CL551,聲音,試用,rMxJhG,行動,5uhiBF,視聽,業界,8bA1EH,隨身,非同凡響,專業,評審,lxqhVu,Jengren,16,此時,Audio,鑑賞,4d1Gcb,帶著,出爐,FNn26J,空間,520evoli,挑色,QCT1K7,hy321250,結果,重低音,忘記,CL722T,PioneerXDP,g8202,兼備,賞的,1485797328116083,頁面,PChome,100000182017563,結過,通話,修羅,有損,純淨,PioneerLife,超乎想像,綜合,0sYmpr,Sjj2uP,細節,Player,標竿,晶片,耳道,出油,影音,音符,工作室,回路,感官,兼具,不凡,更替,加倍,陶醉,美妙,多重,魅力,下列,口袋,均衡,打造,日常,耳朵,注入,令人,平衡,再次,一次\n"
     ]
    }
   ],
   "source": [
    "print ','.join(jieba.analyse.extract_tags(tech_md.test_X[7]['message'], 0))"
   ]
  },
  {
   "cell_type": "markdown",
   "metadata": {
    "deletable": true,
    "editable": true
   },
   "source": [
    "# Automotive, Travel & Leisure, Financial Services,  Courier Services\n"
   ]
  },
  {
   "cell_type": "code",
   "execution_count": 2856,
   "metadata": {
    "collapsed": false,
    "deletable": true,
    "editable": true
   },
   "outputs": [
    {
     "name": "stdout",
     "output_type": "stream",
     "text": [
      "accuracy: 0.9\n",
      "correct_idx: [ 0  1  3  4  5  6  7  8  9 10 11 12 14 15 16 17 18 20 21 22 23 24 25 26 27\n",
      " 28 29]\n",
      "incorrect_idx: [ 2 13 19]\n"
     ]
    }
   ],
   "source": [
    "auto_ML = ML([\"Automotive\",\"Travel & Leisure\",\"Financial Services\",\"Courier Services\"],all_fid_list)\n",
    "auto_ML.accuracy(auto_ML.ML_test_X,auto_ML.test_y)"
   ]
  },
  {
   "cell_type": "code",
   "execution_count": 2541,
   "metadata": {
    "collapsed": false,
    "deletable": true,
    "editable": true
   },
   "outputs": [
    {
     "name": "stdout",
     "output_type": "stream",
     "text": [
      "match product_test :  \n",
      "match product_new :  \n",
      "match info_event :  博覽會\n",
      "match social_responsibility :  \n",
      "match monetary_incentive :  超值,優惠\n",
      "match product_unit :  \n",
      "match price_off :  \n",
      "match engage_other :  \n",
      "match product_version :  \n",
      "match info_brand :  \n",
      "match push_word :  \n",
      "match engage_join :  \n",
      "match engage_interaction :  \n",
      "match to_fans :  \n",
      "predict class :  [0]\n",
      "true class :  3\n",
      "2017 TTE 台北國際觀光博覽會即將登場！台北君悅酒店旅展獨家 #線上旅展 將於4月1日中午12點鐘搶先開跑，旗下超人氣自助餐凱菲屋、彩日本料理、Ziga Zaga、寶艾西餐廳等多家餐廳超值優惠熱賣，切勿錯過！http://bit.ly/2mVo4se\n",
      "Pre-order and enjoy discounts up to 35% off at the Grand Hyatt Taipei 2017 Taipei Tourism Expo online sale beginning at noon April 1 !\n",
      "\n",
      "#餐飲優惠 #便宜餐券 #肋眼牛排 #龍蝦套餐 #義大利餐廳 #台北國際觀光博覽會 #TTE\n"
     ]
    }
   ],
   "source": [
    "auto_ML.checkOne(auto_ML.test_X,auto_ML.test_y,19,\"lg\")"
   ]
  },
  {
   "cell_type": "code",
   "execution_count": 2397,
   "metadata": {
    "collapsed": false,
    "deletable": true,
    "editable": true
   },
   "outputs": [
    {
     "data": {
      "text/plain": [
       "array([13,  9, 15, 33])"
      ]
     },
     "execution_count": 2397,
     "metadata": {},
     "output_type": "execute_result"
    }
   ],
   "source": [
    "np.bincount(auto_ML.train_y)"
   ]
  },
  {
   "cell_type": "markdown",
   "metadata": {
    "collapsed": true,
    "deletable": true,
    "editable": true
   },
   "source": [
    "# All dataset"
   ]
  },
  {
   "cell_type": "code",
   "execution_count": 4693,
   "metadata": {
    "collapsed": false
   },
   "outputs": [],
   "source": [
    "ALL_ML = ML([\"all\"],all_fid_list,file_name = \"all\")"
   ]
  },
  {
   "cell_type": "code",
   "execution_count": 4706,
   "metadata": {
    "collapsed": false
   },
   "outputs": [
    {
     "name": "stdout",
     "output_type": "stream",
     "text": [
      "accuracy: 0.9\n",
      "correct_idx: [  0   1   2   3   4   6   8   9  10  11  12  13  14  15  16  17  18  20\n",
      "  21  23  24  26  27  28  29  30  31  32  33  34  35  36  37  38  39  40\n",
      "  41  42  43  44  45  46  47  48  49  50  51  52  53  54  55  56  57  58\n",
      "  59  61  62  63  64  66  67  68  69  70  72  73  74  77  78  79  80  81\n",
      "  82  83  84  85  86  87  88  90  91  92  93  94  95  96  97  98  99 100\n",
      " 101 103 104 105 106 107 108 109 110 111 112 113 114 115 116 119 120 122\n",
      " 123 125 126 127 128 129 130 131 132 133 134 135 136 137 138 139 140 141\n",
      " 142 143 145 146 147 148 149 152 153 154 155 156 157 158 159 160 161 162\n",
      " 163 164 165 166 167 168 169 171 172 173 174 175 176 177 178 179 180 181\n",
      " 182 183 184 185 186 187 188 189 190 191 192 193 194 195 196 197 198 199]\n",
      "incorrect_idx: [  5   7  19  22  25  60  65  71  75  76  89 102 117 118 121 124 144 150\n",
      " 151 170]\n",
      "None\n"
     ]
    }
   ],
   "source": [
    "print ALL_ML.accuracy(ALL_ML.ML_test_X, ALL_ML.test_y,\"lg\")"
   ]
  },
  {
   "cell_type": "code",
   "execution_count": 4691,
   "metadata": {
    "collapsed": false
   },
   "outputs": [
    {
     "data": {
      "text/plain": [
       "[0, 0, 0, 0, 5, 0, 0, 0, 0, 0, 1, 0, 1, 1]"
      ]
     },
     "execution_count": 4691,
     "metadata": {},
     "output_type": "execute_result"
    }
   ],
   "source": [
    "ALL_ML.ML_train_X[151]  #62"
   ]
  },
  {
   "cell_type": "code",
   "execution_count": 4791,
   "metadata": {
    "collapsed": false
   },
   "outputs": [
    {
     "name": "stdout",
     "output_type": "stream",
     "text": [
      "match brand :  \n",
      "match brand_season :  兒童節\n",
      "match social_rspns :  \n",
      "match engage_assist :  \n",
      "match engage_social :  \n",
      "match engage_inter :  \n",
      "match product_new :  \n",
      "match product_version :  \n",
      "match product_test :  \n",
      "match product_unit :  \n",
      "match promo_deal :  優惠活動,優惠,免費\n",
      "match promo_discnt :  \n",
      "has_message :  1\n",
      "has_vivid :  0\n",
      "predict class :  [0]\n",
      "true class :  0\n",
      "把拔馬麻們注意囉📢📢📢 \n",
      "🎉 歡慶兒童節🎉 \n",
      "TGI FRIDAYS Taiwan要請小朋友們吃免費兒童餐喔！ \n",
      "\n",
      "4/4兒童節當天用餐並出示此活動頁面👆， \n",
      "於指定餐廳 (美麗華、西門、古亭、林森、桃園、 \n",
      "台中市政、台中英才、台南新天地、高雄夢時代) \n",
      "☝消費滿1000元，免費招待1份兒童餐點！ \n",
      "✌消費滿2000元，免費招待2份兒童餐點！ (以此類推) \n",
      "\n",
      "爸爸媽媽們快點帶家裡的寶貝們到FRIDAYS慶祝兒童節喔！🎉🎈 \n",
      "各餐廳訂位電話與營業時間請見：http://www.tgifridays.com.tw/store.php\n",
      "\n",
      "※兒童餐優惠僅提供12歲以下兒童享用。 \n",
      "※贈送品項需加收原價之10%服務費。 \n",
      "※不得與EZ Table餐券、網路會員優惠或其它優惠活動同時使用。 \n",
      "※不得折現或外帶，TGI FRIDAYS保有修改活動辦法之權利\n"
     ]
    }
   ],
   "source": [
    "ALL_ML.checkOne(ALL_ML.test_X,ALL_ML.test_y,0,\"lg\")"
   ]
  },
  {
   "cell_type": "markdown",
   "metadata": {},
   "source": [
    "# update class function"
   ]
  },
  {
   "cell_type": "code",
   "execution_count": 4692,
   "metadata": {
    "collapsed": false
   },
   "outputs": [],
   "source": [
    "update_class(f_file,\"data/train_data_all.json\",151,1)"
   ]
  },
  {
   "cell_type": "code",
   "execution_count": 4683,
   "metadata": {
    "collapsed": true
   },
   "outputs": [],
   "source": [
    "with open(\"data/train_data_all.json\") as ff:\n",
    "    f_file = json.load(ff)"
   ]
  },
  {
   "cell_type": "code",
   "execution_count": 4684,
   "metadata": {
    "collapsed": true
   },
   "outputs": [],
   "source": [
    "def update_class(loaded_file, file_name, index,new_class):\n",
    "    loaded_file['train_y'][index] = new_class\n",
    "    with open(file_name,'w') as o_ff:\n",
    "        json.dump(loaded_file,o_ff)"
   ]
  },
  {
   "cell_type": "code",
   "execution_count": null,
   "metadata": {
    "collapsed": true
   },
   "outputs": [],
   "source": []
  },
  {
   "cell_type": "code",
   "execution_count": null,
   "metadata": {
    "collapsed": true
   },
   "outputs": [],
   "source": []
  },
  {
   "cell_type": "code",
   "execution_count": null,
   "metadata": {
    "collapsed": true
   },
   "outputs": [],
   "source": []
  },
  {
   "cell_type": "code",
   "execution_count": null,
   "metadata": {
    "collapsed": true
   },
   "outputs": [],
   "source": []
  },
  {
   "cell_type": "code",
   "execution_count": null,
   "metadata": {
    "collapsed": true
   },
   "outputs": [],
   "source": []
  },
  {
   "cell_type": "code",
   "execution_count": null,
   "metadata": {
    "collapsed": true
   },
   "outputs": [],
   "source": []
  },
  {
   "cell_type": "markdown",
   "metadata": {},
   "source": [
    "# print 特徵向量"
   ]
  },
  {
   "cell_type": "code",
   "execution_count": 4794,
   "metadata": {
    "collapsed": true
   },
   "outputs": [],
   "source": [
    "tmpp = []\n",
    "for i in range(30):\n",
    "    t = []\n",
    "    t.append(ALL_ML.test_X[i]['pid'])\n",
    "    tmpp.append(t+ALL_ML.ML_test_X[i])\n",
    "    "
   ]
  },
  {
   "cell_type": "code",
   "execution_count": 4796,
   "metadata": {
    "collapsed": false
   },
   "outputs": [
    {
     "data": {
      "text/html": [
       "<div>\n",
       "<table border=\"1\" class=\"dataframe\">\n",
       "  <thead>\n",
       "    <tr style=\"text-align: right;\">\n",
       "      <th></th>\n",
       "      <th>pid</th>\n",
       "      <th>brand</th>\n",
       "      <th>b_season</th>\n",
       "      <th>b_responsibility</th>\n",
       "      <th>eg_assist</th>\n",
       "      <th>eg_social</th>\n",
       "      <th>eg_interact</th>\n",
       "      <th>pd_new</th>\n",
       "      <th>pd_ver</th>\n",
       "      <th>pd_try</th>\n",
       "      <th>pd_unit</th>\n",
       "      <th>prm_deal</th>\n",
       "      <th>prm_discount</th>\n",
       "      <th>has_msg</th>\n",
       "      <th>has_vivid</th>\n",
       "    </tr>\n",
       "  </thead>\n",
       "  <tbody>\n",
       "    <tr>\n",
       "      <th>0</th>\n",
       "      <td>182373771797518_1908464146057096</td>\n",
       "      <td>0</td>\n",
       "      <td>1</td>\n",
       "      <td>0</td>\n",
       "      <td>0</td>\n",
       "      <td>0</td>\n",
       "      <td>0</td>\n",
       "      <td>0</td>\n",
       "      <td>0</td>\n",
       "      <td>0</td>\n",
       "      <td>0</td>\n",
       "      <td>3</td>\n",
       "      <td>0</td>\n",
       "      <td>1</td>\n",
       "      <td>0</td>\n",
       "    </tr>\n",
       "  </tbody>\n",
       "</table>\n",
       "</div>"
      ],
      "text/plain": [
       "                                pid  brand  b_season  b_responsibility  \\\n",
       "0  182373771797518_1908464146057096      0         1                 0   \n",
       "\n",
       "   eg_assist  eg_social  eg_interact  pd_new  pd_ver  pd_try  pd_unit  \\\n",
       "0          0          0            0       0       0       0        0   \n",
       "\n",
       "   prm_deal  prm_discount  has_msg  has_vivid  \n",
       "0         3             0        1          0  "
      ]
     },
     "execution_count": 4796,
     "metadata": {},
     "output_type": "execute_result"
    }
   ],
   "source": [
    "pd.DataFrame(data=tmpp,\n",
    "             columns=['pid','brand','b_season','b_responsibility','eg_assist',\"eg_social\",\"eg_interact\",\n",
    "                      \"pd_new\",\"pd_ver\",\"pd_try\",\"pd_unit\",\"prm_deal\",\"prm_discount\",\"has_msg\",\"has_vivid\"]).iloc[0:1]"
   ]
  },
  {
   "cell_type": "code",
   "execution_count": null,
   "metadata": {
    "collapsed": true
   },
   "outputs": [],
   "source": []
  }
 ],
 "metadata": {
  "kernelspec": {
   "display_name": "Python 2",
   "language": "python",
   "name": "python2"
  },
  "language_info": {
   "codemirror_mode": {
    "name": "ipython",
    "version": 2
   },
   "file_extension": ".py",
   "mimetype": "text/x-python",
   "name": "python",
   "nbconvert_exporter": "python",
   "pygments_lexer": "ipython2",
   "version": "2.7.10"
  }
 },
 "nbformat": 4,
 "nbformat_minor": 2
}
