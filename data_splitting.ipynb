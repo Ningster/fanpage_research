{
 "cells": [
  {
   "cell_type": "code",
   "execution_count": 2,
   "metadata": {
    "collapsed": false,
    "deletable": true,
    "editable": true
   },
   "outputs": [],
   "source": [
    "import json\n",
    "import numpy as np\n",
    "import unicodecsv as csv\n",
    "from data_tool import flat_json\n",
    "from sklearn.model_selection import train_test_split \n",
    "from data_tool import csv_to_list, list_to_csv"
   ]
  },
  {
   "cell_type": "code",
   "execution_count": 20,
   "metadata": {
    "collapsed": true,
    "deletable": true,
    "editable": true
   },
   "outputs": [],
   "source": [
    "# def split_train_test(post_data_list,test_size,label_class): \n",
    "def split_train_test(post_data_list,test_size): \n",
    "    \"\"\"\n",
    "    After manual labeling, splitting the sample posts to training and testing data.\n",
    "\n",
    "    :param post_data_list: the data of sampled posts.\n",
    "    :param test_size: the percentage of the test_size.\n",
    "    :return: X_train & X_test are list contain post data dictionaries, y_train & y_test are list contain label.\n",
    "    :rtype: list*4\n",
    "    \"\"\"\n",
    "#     label = {0:\"label_brand\",1:\"label_engage\",2:\"label_product\",3:\"label_promo\"}\n",
    "    flat_post_data_list = flat_json(post_data_list)\n",
    "    X = np.array(post_data_list)\n",
    "#     y = np.array(flat_post_data_list[label[label_class]])\n",
    "    y = np.array(flat_post_data_list['label'])  \n",
    "    \n",
    "#     [label_0,label_1] = np.bincount(y)\n",
    "#     diff = label_0 - label_1\n",
    "        \n",
    "#     if diff > 0 :\n",
    "#         undersample = np.where(y==0)[0]\n",
    "#     else :\n",
    "#         undersample = np.where(y==1)[0]\n",
    "#     pop_list = np.random.choice(undersample,abs(diff),replace=False)\n",
    "#     X = np.delete(X,pop_list)\n",
    "#     y = np.delete(y,pop_list)\n",
    "    \n",
    "    X_train, X_test, y_train, y_test = train_test_split(X, y, test_size=test_size, random_state=42,stratify=y)\n",
    "    print 'All:', np.bincount(y) / float(len(y)) * 100.0\n",
    "    print 'Training:', np.bincount(y_train) / float(len(y_train)) * 100.0\n",
    "    print 'Test:', np.bincount(y_test) / float(len(y_test)) * 100.0\n",
    "    return X_train, X_test, y_train, y_test"
   ]
  },
  {
   "cell_type": "code",
   "execution_count": 32,
   "metadata": {
    "collapsed": false,
    "deletable": true,
    "editable": true
   },
   "outputs": [],
   "source": [
    "post_data_list = csv_to_list(\"data_106/exp_labeled_2.csv\")"
   ]
  },
  {
   "cell_type": "code",
   "execution_count": 33,
   "metadata": {
    "collapsed": false,
    "deletable": true,
    "editable": true
   },
   "outputs": [
    {
     "name": "stdout",
     "output_type": "stream",
     "text": [
      "All: [  0.          33.60655738  33.19672131  33.19672131]\n",
      "Training: [  0.          33.33333333  33.33333333  33.33333333]\n",
      "Test: [  0.          34.42622951  32.78688525  32.78688525]\n",
      "[ 0 61 61 61]\n",
      "[ 0 21 20 20]\n"
     ]
    }
   ],
   "source": [
    "X_train, X_test, y_train, y_test = split_train_test(post_data_list,0.25)\n",
    "print np.bincount(y_train)\n",
    "print np.bincount(y_test)"
   ]
  },
  {
   "cell_type": "code",
   "execution_count": 34,
   "metadata": {
    "collapsed": false,
    "deletable": true,
    "editable": true
   },
   "outputs": [],
   "source": [
    "list_to_csv(X_train,\"data_106/exp_train.csv\")\n",
    "list_to_csv(X_test,\"data_106/exp_test.csv\")"
   ]
  },
  {
   "cell_type": "code",
   "execution_count": null,
   "metadata": {
    "collapsed": true,
    "deletable": true,
    "editable": true
   },
   "outputs": [],
   "source": []
  }
 ],
 "metadata": {
  "kernelspec": {
   "display_name": "Python 2",
   "language": "python",
   "name": "python2"
  },
  "language_info": {
   "codemirror_mode": {
    "name": "ipython",
    "version": 2
   },
   "file_extension": ".py",
   "mimetype": "text/x-python",
   "name": "python",
   "nbconvert_exporter": "python",
   "pygments_lexer": "ipython2",
   "version": "2.7.10"
  }
 },
 "nbformat": 4,
 "nbformat_minor": 2
}
