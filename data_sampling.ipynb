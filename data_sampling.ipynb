{
 "cells": [
  {
   "cell_type": "code",
   "execution_count": 1,
   "metadata": {
    "collapsed": true,
    "deletable": true,
    "editable": true
   },
   "outputs": [],
   "source": [
    "import json\n",
    "import numpy as np"
   ]
  },
  {
   "cell_type": "code",
   "execution_count": 2,
   "metadata": {
    "collapsed": true,
    "deletable": true,
    "editable": true
   },
   "outputs": [],
   "source": [
    "with open(\"data_106/valid_pid_list\",'r') as infile:\n",
    "    valid_pid_list = json.load(infile)"
   ]
  },
  {
   "cell_type": "code",
   "execution_count": 8,
   "metadata": {
    "collapsed": true,
    "deletable": true,
    "editable": true
   },
   "outputs": [],
   "source": [
    "# 洗牌之後抽樣 n 則貼文\n",
    "def shuffle_sample(valid_pid_list,n):\n",
    "    \"\"\"\n",
    "    Shuffling the given list then sampling n posts from the list.\n",
    "\n",
    "    :param valid_pid_list: a valid post_id list.\n",
    "    :param n: the number of samples you need.\n",
    "    :return: post_id list of n posts sampled.\n",
    "    :rtype: list\n",
    "    \"\"\"\n",
    "    np.random.shuffle(valid_pid_list)\n",
    "    sample_pid_nparray = np.random.choice(valid_pid_list,n,replace=False)\n",
    "    sample_pid_list = sample_pid_nparray.tolist()\n",
    "    return sample_pid_list"
   ]
  },
  {
   "cell_type": "code",
   "execution_count": 19,
   "metadata": {
    "collapsed": true,
    "deletable": true,
    "editable": true
   },
   "outputs": [],
   "source": [
    "sample_pid_list = shuffle_sample(valid_pid_list,1500)"
   ]
  },
  {
   "cell_type": "code",
   "execution_count": 20,
   "metadata": {
    "collapsed": false,
    "deletable": true,
    "editable": true
   },
   "outputs": [],
   "source": [
    "with open(\"data_106/sample_pid_list\",'w') as outfile:\n",
    "    json.dump(sample_pid_list,outfile)"
   ]
  },
  {
   "cell_type": "code",
   "execution_count": null,
   "metadata": {
    "collapsed": true,
    "deletable": true,
    "editable": true
   },
   "outputs": [],
   "source": []
  }
 ],
 "metadata": {
  "kernelspec": {
   "display_name": "Python 2",
   "language": "python",
   "name": "python2"
  },
  "language_info": {
   "codemirror_mode": {
    "name": "ipython",
    "version": 2
   },
   "file_extension": ".py",
   "mimetype": "text/x-python",
   "name": "python",
   "nbconvert_exporter": "python",
   "pygments_lexer": "ipython2",
   "version": "2.7.10"
  }
 },
 "nbformat": 4,
 "nbformat_minor": 2
}
