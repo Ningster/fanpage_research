{
 "cells": [
  {
   "cell_type": "code",
   "execution_count": 1,
   "metadata": {
    "collapsed": true,
    "deletable": true,
    "editable": true
   },
   "outputs": [],
   "source": [
    "# -*- coding: utf8 -*-\n",
    "import pymongo\n",
    "import json\n",
    "import access_PlaceAPI_tool\n",
    "import facebook\n",
    "import io\n",
    "import uniout\n",
    "import requests\n",
    "from pymongo import MongoClient\n",
    "import re"
   ]
  },
  {
   "cell_type": "code",
   "execution_count": 2,
   "metadata": {
    "collapsed": true,
    "deletable": true,
    "editable": true
   },
   "outputs": [],
   "source": [
    "#graph api\n",
    "with io.open('config_secret_fb.json') as cred_fb:\n",
    "    creds = json.load(cred_fb)\n",
    "    graph = facebook.GraphAPI(access_token=creds['access_token'])"
   ]
  },
  {
   "cell_type": "code",
   "execution_count": 3,
   "metadata": {
    "collapsed": false,
    "deletable": true,
    "editable": true
   },
   "outputs": [],
   "source": [
    "#pretty print\n",
    "def pp(o):\n",
    "    print json.dumps(o,indent=1,ensure_ascii=False)"
   ]
  },
  {
   "cell_type": "markdown",
   "metadata": {
    "deletable": true,
    "editable": true
   },
   "source": [
    "# Get Fanpage Data"
   ]
  },
  {
   "cell_type": "code",
   "execution_count": 43,
   "metadata": {
    "collapsed": false,
    "deletable": true,
    "editable": true
   },
   "outputs": [],
   "source": [
    "class fanpage:\n",
    "    def __init__(self,fid):\n",
    "        self.fid = fid\n",
    "        self.obj = None\n",
    "    def get_obj(self, refresh=False):\n",
    "        if self.obj is None or refresh==True:\n",
    "            obj = graph.get_object(self.fid,fields='fan_count,name,talking_about_count,posts.limit(5)')\n",
    "            print 'fanpage '+self.fid+' send request to FB'\n",
    "            self.obj = obj\n",
    "        return self.obj\n",
    "    def get_name(self):\n",
    "        try:\n",
    "            return self.get_obj()['name']\n",
    "        except:\n",
    "            print  self.fid+' has no \\'name\\' attribute'\n",
    "    def get_fan_count(self):\n",
    "        try:\n",
    "            return self.get_obj()['fan_count']\n",
    "        except:\n",
    "            print self.fid+' has no \\'fan_count\\' attribute'\n",
    "    def get_talking_about_count(self):\n",
    "        try:\n",
    "            return self.get_obj()['talking_about_count']\n",
    "        except:\n",
    "            print self.fid+' has no \\'talking_about_count\\' attribute'\n",
    "    def get_latest_five_post(self):\n",
    "        try:\n",
    "            return [i['id'] for i in self.get_obj()['posts']['data']]\n",
    "        except:\n",
    "            print self.fid+' has no \\'posts\\'\\'data\\' attribute'"
   ]
  },
  {
   "cell_type": "code",
   "execution_count": 11,
   "metadata": {
    "collapsed": false,
    "deletable": true,
    "editable": true,
    "scrolled": true
   },
   "outputs": [],
   "source": [
    "fp = fanpage('126949930763408')"
   ]
  },
  {
   "cell_type": "code",
   "execution_count": 12,
   "metadata": {
    "collapsed": false,
    "deletable": true,
    "editable": true
   },
   "outputs": [
    {
     "name": "stdout",
     "output_type": "stream",
     "text": [
      "126949930763408\n",
      "fanpage 126949930763408 send request to FB\n",
      "BMW Taiwan總代理 汎德\n",
      "470962\n",
      "14174\n",
      "[u'126949930763408_669653613159701', u'126949930763408_666251120166617', u'126949930763408_664195573705505', u'126949930763408_666235246834871', u'126949930763408_663405040451225']\n"
     ]
    }
   ],
   "source": [
    "print fp.fid\n",
    "print fp.get_name()\n",
    "print fp.get_fan_count()\n",
    "print fp.get_talking_about_count()\n",
    "print fp.get_latest_five_post()"
   ]
  },
  {
   "cell_type": "markdown",
   "metadata": {
    "deletable": true,
    "editable": true
   },
   "source": [
    "# Get Post Data"
   ]
  },
  {
   "cell_type": "code",
   "execution_count": 32,
   "metadata": {
    "collapsed": false,
    "deletable": true,
    "editable": true
   },
   "outputs": [],
   "source": [
    "class post:\n",
    "    def __init__(self,pid):\n",
    "        self.pid = pid\n",
    "        self.obj = None\n",
    "    def get_obj(self, refresh=False):\n",
    "        if self.obj is None or refresh==True:\n",
    "            obj = graph.get_object(self.pid,fields='message,created_time,attachments{type},shares')\n",
    "            print 'post '+self.pid+' send request to FB'\n",
    "            self.obj = obj\n",
    "        return self.obj\n",
    "    def get_message(self):\n",
    "        try:\n",
    "            return self.get_obj()['message']\n",
    "        except:\n",
    "            print  self.pid+' has no \\'message\\' attribute'\n",
    "    def get_created_time(self):\n",
    "        try:\n",
    "            return self.get_obj()['created_time']\n",
    "        except:\n",
    "            print self.pid+' has no \\'created_time\\' attribute'\n",
    "    def get_post_type(self):\n",
    "        try:\n",
    "            return self.get_obj()['attachments']['data'][0]['type']\n",
    "        except:\n",
    "            print self.pid+' has no \\'post_type\\' attribute'\n",
    "#     def get_share_count(self):\n",
    "#         try:\n",
    "#             return self.get_obj()['shares']['count']\n",
    "#         except:\n",
    "#             print self.pid+' has no \\'share_count\\' attribute'"
   ]
  },
  {
   "cell_type": "code",
   "execution_count": 33,
   "metadata": {
    "collapsed": false,
    "deletable": true,
    "editable": true
   },
   "outputs": [],
   "source": [
    "post_test = post('127581957282188_1501151223258581')"
   ]
  },
  {
   "cell_type": "code",
   "execution_count": 34,
   "metadata": {
    "collapsed": false,
    "deletable": true,
    "editable": true
   },
   "outputs": [
    {
     "name": "stdout",
     "output_type": "stream",
     "text": [
      "127581957282188_1501151223258581\n",
      "post 127581957282188_1501151223258581 send request to FB\n",
      "換季時刻，肌膚最有感！\n",
      "泛紅、乾燥、脫皮…各種狀況一次上門💢\n",
      "\n",
      "安撫鬧情緒的肌膚\n",
      "就要靠修護大師👉✨角鯊烯修護保濕面膜✨\n",
      "保濕潤澤你的狀況肌，並開啟防禦機制\n",
      "\n",
      "🌟立即【留言】大聲呼喊：\n",
      "「換季狀況肌就靠__________修護大師來拯救！」\n",
      "2017-02-17T12:00:02+0000\n",
      "photo\n"
     ]
    }
   ],
   "source": [
    "print post_test.pid\n",
    "print post_test.get_message()\n",
    "print post_test.get_created_time()\n",
    "print post_test.get_post_type()"
   ]
  },
  {
   "cell_type": "markdown",
   "metadata": {},
   "source": [
    "# Get Post_Details Data"
   ]
  },
  {
   "cell_type": "code",
   "execution_count": 80,
   "metadata": {
    "collapsed": true
   },
   "outputs": [],
   "source": [
    "class post_detail:\n",
    "    def __init__(self,pid):\n",
    "        self.pid = pid\n",
    "    def get_share_count(self):\n",
    "        count = 0\n",
    "        try:\n",
    "            obj = graph.get_object(self.pid,fields='shares')\n",
    "            print 'post_detail_share '+self.pid+' send request to FB'\n",
    "            count = obj['shares']['count']\n",
    "            return count\n",
    "        except:\n",
    "            print self.pid+' obj has no \\'shares\\' attribute'\n",
    "            return count\n",
    "    def get_like_count(self):\n",
    "        count = 0\n",
    "        next_index = \"\"\n",
    "        while True:\n",
    "            try:\n",
    "                obj = graph.get_connections(self.pid, connection_name='likes',after=next_index)\n",
    "                print 'post_detail_like '+self.pid+' send request to FB'\n",
    "                count = count + len(obj['data'])\n",
    "#                 print count\n",
    "                if \"next\" in obj['paging']:\n",
    "                    next_index = obj['paging']['cursors']['after']\n",
    "#                     print next_index\n",
    "                else:\n",
    "                    break\n",
    "            except:\n",
    "                print self.pid+' cannot get \\'like_count\\' from Graph API'\n",
    "                break\n",
    "        return count\n",
    "    def get_comment_count(self):\n",
    "        count = 0\n",
    "        next_index = \"\"\n",
    "        while True:\n",
    "            try:\n",
    "                obj = graph.get_connections(self.pid, connection_name='comments',after=next_index)\n",
    "                print 'post_detail_commet '+self.pid+' send request to FB'\n",
    "                count = count + len(obj['data'])\n",
    "#                 print count\n",
    "                if \"next\" in obj['paging']:\n",
    "                    next_index = obj['paging']['cursors']['after']\n",
    "#                     print next_index\n",
    "                else:\n",
    "                    break\n",
    "            except:\n",
    "                print self.pid+' cannot get \\'comment_count\\' from Graph API'\n",
    "                break\n",
    "        return count\n",
    "    def get_friend_tagging_count(self):\n",
    "        count = 0\n",
    "        next_index = ''\n",
    "        while True:\n",
    "            try:\n",
    "                obj = graph.get_connections(self.pid, connection_name='comments',fields='message_tags',after=next_index)\n",
    "                print 'post_detail_friend_tagg '+self.pid+' send request to FB'\n",
    "                for i in obj['data']:\n",
    "                    if 'message_tags' in i:\n",
    "                        count = count+len(i['message_tags'])\n",
    "                if \"next\" in obj['paging']:\n",
    "                    next_index = obj['paging']['cursors']['after']\n",
    "                else:\n",
    "                    break\n",
    "            except:\n",
    "                print self.pid+' cannot get \\'friend_tagging_count\\' from Graph API'\n",
    "                break\n",
    "        return count"
   ]
  },
  {
   "cell_type": "code",
   "execution_count": 39,
   "metadata": {
    "collapsed": true
   },
   "outputs": [],
   "source": [
    "pda = post_detail('126949930763408_673905422734520')"
   ]
  },
  {
   "cell_type": "code",
   "execution_count": 40,
   "metadata": {
    "collapsed": false
   },
   "outputs": [
    {
     "name": "stdout",
     "output_type": "stream",
     "text": [
      "share_count:  235\n",
      "like_count:  5465\n",
      "comment_count:  78\n",
      "friend_tagg_count:  37\n"
     ]
    }
   ],
   "source": [
    "print 'share_count: ',pda.get_share_count()\n",
    "print 'like_count: ',pda.get_like_count()\n",
    "print 'comment_count: ',pda.get_comment_count()\n",
    "print 'friend_tagg_count: ',pda.get_friend_tagging_count()"
   ]
  },
  {
   "cell_type": "markdown",
   "metadata": {},
   "source": [
    "# Textmining for Classifying Posts"
   ]
  },
  {
   "cell_type": "code",
   "execution_count": 15,
   "metadata": {
    "collapsed": false,
    "deletable": true,
    "editable": true
   },
   "outputs": [],
   "source": [
    "#po文是否有URL\n",
    "def has_url(pid):\n",
    "    obj = graph.get_object(pid, fiedls='message')\n",
    "    if len(re.findall('http[s]?://(?:[a-zA-Z]|[0-9]|[$-_@.&+]|[!*\\(\\),]|(?:%[0-9a-fA-F][0-9a-fA-F]))+', obj['message'])) == 0:\n",
    "        return False\n",
    "    else:\n",
    "        return True"
   ]
  },
  {
   "cell_type": "code",
   "execution_count": 16,
   "metadata": {
    "collapsed": false,
    "deletable": true,
    "editable": true
   },
   "outputs": [
    {
     "data": {
      "text/plain": [
       "False"
      ]
     },
     "execution_count": 16,
     "metadata": {},
     "output_type": "execute_result"
    }
   ],
   "source": [
    "has_url(\"126949930763408_654531844671878\")"
   ]
  },
  {
   "cell_type": "code",
   "execution_count": 23,
   "metadata": {
    "collapsed": false,
    "deletable": true,
    "editable": true
   },
   "outputs": [
    {
     "data": {
      "text/plain": [
       "'2017-03-05 06:41:25'"
      ]
     },
     "execution_count": 23,
     "metadata": {},
     "output_type": "execute_result"
    }
   ],
   "source": [
    "from time import gmtime, strftime\n",
    "strftime(\"%Y-%m-%d %H:%M:%S\", gmtime())"
   ]
  },
  {
   "cell_type": "markdown",
   "metadata": {
    "deletable": true,
    "editable": true
   },
   "source": [
    "# Insert Data into MongoDB"
   ]
  },
  {
   "cell_type": "code",
   "execution_count": 49,
   "metadata": {
    "collapsed": true,
    "deletable": true,
    "editable": true
   },
   "outputs": [],
   "source": [
    "from pymongo import MongoClient\n",
    "client = MongoClient('mongodb://localhost:27017/')"
   ]
  },
  {
   "cell_type": "code",
   "execution_count": 50,
   "metadata": {
    "collapsed": true,
    "deletable": true,
    "editable": true
   },
   "outputs": [],
   "source": [
    "import datetime"
   ]
  },
  {
   "cell_type": "code",
   "execution_count": 51,
   "metadata": {
    "collapsed": false,
    "deletable": true,
    "editable": true
   },
   "outputs": [],
   "source": [
    "#client.database_names()"
   ]
  },
  {
   "cell_type": "code",
   "execution_count": 52,
   "metadata": {
    "collapsed": true,
    "deletable": true,
    "editable": true
   },
   "outputs": [],
   "source": [
    "db = client['fanpage_research']\n",
    "coll_fanpage = db['fanpage']\n",
    "coll_post = db['post']\n",
    "coll_post_detail = db['post_detail']"
   ]
  },
  {
   "cell_type": "code",
   "execution_count": 45,
   "metadata": {
    "collapsed": false,
    "deletable": true,
    "editable": true
   },
   "outputs": [],
   "source": [
    "with open('fid_list_2.json') as f:\n",
    "    fid_list = json.load(f)"
   ]
  },
  {
   "cell_type": "code",
   "execution_count": 62,
   "metadata": {
    "collapsed": true
   },
   "outputs": [],
   "source": [
    "def update_fanpage_data(fid):\n",
    "    fp = fanpage(fid)\n",
    "    latest_five = fp.get_latest_five_post()\n",
    "    fanpage_record = {\n",
    "         \"fid\": fp.fid,\n",
    "         \"name\": fp.get_name(),\n",
    "         \"fan_count\": fp.get_fan_count(),\n",
    "         \"talking_about_count\":fp.get_talking_about_count(),\n",
    "         \"date\": datetime.datetime.utcnow()}\n",
    "    print coll_fanpage.insert_one(fanpage_record)\n",
    "    return latest_five"
   ]
  },
  {
   "cell_type": "code",
   "execution_count": 63,
   "metadata": {
    "collapsed": false
   },
   "outputs": [
    {
     "name": "stdout",
     "output_type": "stream",
     "text": [
      "fanpage 126949930763408 send request to FB\n",
      "<pymongo.results.InsertOneResult object at 0x104d0c140>\n",
      "[u'126949930763408_674545299337199', u'126949930763408_673905422734520', u'126949930763408_669660796492316', u'126949930763408_671004546357941', u'126949930763408_669573229834406']\n"
     ]
    }
   ],
   "source": [
    "print update_fanpage_data('126949930763408')"
   ]
  },
  {
   "cell_type": "code",
   "execution_count": 55,
   "metadata": {
    "collapsed": true
   },
   "outputs": [],
   "source": [
    "def update_post_data(fid,pid):\n",
    "    result = coll_post.find_one({'pid':pid})\n",
    "    if result is None:\n",
    "        p = post(pid)\n",
    "        post_record ={\n",
    "            'fid':fid,\n",
    "            'pid':p.pid,\n",
    "            'message':p.get_message(),\n",
    "            'post_type':p.get_post_type(),\n",
    "            'created_time':p.get_created_time(),\n",
    "            'date':datetime.datetime.utcnow()\n",
    "                }\n",
    "        print coll_post.insert_one(post_record) "
   ]
  },
  {
   "cell_type": "code",
   "execution_count": 56,
   "metadata": {
    "collapsed": false
   },
   "outputs": [
    {
     "name": "stdout",
     "output_type": "stream",
     "text": [
      "post 126949930763408_673905422734520 send request to FB\n",
      "<pymongo.results.InsertOneResult object at 0x104cdb410>\n"
     ]
    }
   ],
   "source": [
    "update_post_data('126949930763408','126949930763408_673905422734520')"
   ]
  },
  {
   "cell_type": "code",
   "execution_count": 57,
   "metadata": {
    "collapsed": true
   },
   "outputs": [],
   "source": [
    "def update_post_detail_data(pid):\n",
    "    p_d = post_detail(pid)\n",
    "    post_detail_record = {\n",
    "        'pid':p_d.pid,\n",
    "        'share_count': p_d.get_share_count(),\n",
    "        'like_count':p_d.get_like_count(),\n",
    "        'comment_count':p_d.get_comment_count(),\n",
    "        'friend_tagg_count':p_d.get_friend_tagging_count(),\n",
    "        'date': datetime.datetime.utcnow()}\n",
    "    print coll_post_detail.insert_one(post_detail_record)"
   ]
  },
  {
   "cell_type": "code",
   "execution_count": 58,
   "metadata": {
    "collapsed": false
   },
   "outputs": [
    {
     "name": "stdout",
     "output_type": "stream",
     "text": [
      "<pymongo.results.InsertOneResult object at 0x104cdb280>\n"
     ]
    }
   ],
   "source": [
    "update_post_detail_data('126949930763408_673905422734520')"
   ]
  },
  {
   "cell_type": "markdown",
   "metadata": {},
   "source": [
    "# Main Function (To run weekly)"
   ]
  },
  {
   "cell_type": "code",
   "execution_count": 67,
   "metadata": {
    "collapsed": true
   },
   "outputs": [],
   "source": [
    "def update_db_weekly(fid_list):\n",
    "    for each_obj in fid_list:\n",
    "        fid = each_obj['fid']\n",
    "        latest_five = update_fanpage_data(fid)\n",
    "        if latest_five is not None:\n",
    "            for pid in latest_five:\n",
    "                db_find = coll_post.find_one({'pid':pid})\n",
    "                if db_find is None:\n",
    "                    update_post_data(fid,pid)\n",
    "    post_in_db = db.post.find({},{\"_id\":False,'pid':True})\n",
    "    for p in post_in_db:\n",
    "        update_post_detail_data(p['pid'])"
   ]
  },
  {
   "cell_type": "code",
   "execution_count": 68,
   "metadata": {
    "collapsed": true
   },
   "outputs": [],
   "source": [
    "test_fid_list = [{'fid':'126949930763408'},{'fid':'127581957282188'}]"
   ]
  },
  {
   "cell_type": "code",
   "execution_count": 69,
   "metadata": {
    "collapsed": false
   },
   "outputs": [
    {
     "name": "stdout",
     "output_type": "stream",
     "text": [
      "fanpage 126949930763408 send request to FB\n",
      "<pymongo.results.InsertOneResult object at 0x104d0c0a0>\n",
      "post 126949930763408_674545299337199 send request to FB\n",
      "<pymongo.results.InsertOneResult object at 0x104d0c0f0>\n",
      "post 126949930763408_673905422734520 send request to FB\n",
      "<pymongo.results.InsertOneResult object at 0x104d0c0a0>\n",
      "post 126949930763408_669660796492316 send request to FB\n",
      "<pymongo.results.InsertOneResult object at 0x104d0c500>\n",
      "post 126949930763408_671004546357941 send request to FB\n",
      "<pymongo.results.InsertOneResult object at 0x104d0c140>\n",
      "post 126949930763408_669573229834406 send request to FB\n",
      "<pymongo.results.InsertOneResult object at 0x104cdbfa0>\n",
      "fanpage 127581957282188 send request to FB\n",
      "<pymongo.results.InsertOneResult object at 0x104cdbf00>\n",
      "post 127581957282188_1539510482755988 send request to FB\n",
      "<pymongo.results.InsertOneResult object at 0x104cdbf50>\n",
      "post 127581957282188_1531069253600111 send request to FB\n",
      "<pymongo.results.InsertOneResult object at 0x104d0c140>\n",
      "post 127581957282188_1530654893641547 send request to FB\n",
      "<pymongo.results.InsertOneResult object at 0x104d0c140>\n",
      "post 127581957282188_1524463990927304 send request to FB\n",
      "<pymongo.results.InsertOneResult object at 0x104d0c0f0>\n",
      "post 127581957282188_1520103498030020 send request to FB\n",
      "<pymongo.results.InsertOneResult object at 0x104d0c140>\n",
      "<pymongo.results.InsertOneResult object at 0x104d0c0f0>\n",
      "<pymongo.results.InsertOneResult object at 0x104cdbaa0>\n",
      "<pymongo.results.InsertOneResult object at 0x104d0c500>\n",
      "<pymongo.results.InsertOneResult object at 0x104cdbbe0>\n",
      "<pymongo.results.InsertOneResult object at 0x104cdbf00>\n",
      "<pymongo.results.InsertOneResult object at 0x104cdbaa0>\n",
      "127581957282188_1531069253600111 obj has no 'shares' attribute\n",
      "127581957282188_1531069253600111 cannot get 'comment_count' from Graph API\n",
      "127581957282188_1531069253600111 cannot get 'friend_tagging_count' from Graph API\n",
      "<pymongo.results.InsertOneResult object at 0x104cdbf00>\n",
      "<pymongo.results.InsertOneResult object at 0x104cdbbe0>\n",
      "<pymongo.results.InsertOneResult object at 0x104cdbaa0>\n",
      "<pymongo.results.InsertOneResult object at 0x104cdbfa0>\n"
     ]
    }
   ],
   "source": [
    "update_db_weekly(test_fid_list)"
   ]
  },
  {
   "cell_type": "markdown",
   "metadata": {
    "deletable": true,
    "editable": true
   },
   "source": [
    "### [Note] Find_one_and_update method"
   ]
  },
  {
   "cell_type": "code",
   "execution_count": 121,
   "metadata": {
    "collapsed": true,
    "deletable": true,
    "editable": true
   },
   "outputs": [],
   "source": [
    "from pymongo import ReturnDocument"
   ]
  },
  {
   "cell_type": "code",
   "execution_count": 132,
   "metadata": {
    "collapsed": false,
    "deletable": true,
    "editable": true
   },
   "outputs": [
    {
     "data": {
      "text/plain": [
       "{u'pid': u'143322382408914_1283777468363394', u'share': 3, u'share_count': 444}"
      ]
     },
     "execution_count": 132,
     "metadata": {},
     "output_type": "execute_result"
    }
   ],
   "source": [
    "coll_post.find_one_and_update({'pid':'143322382408914_1283777468363394'},\n",
    "                              {'$set': { 'share_count': 444,\n",
    "                                        'share':3}},\n",
    "                              projection={'_id':False,'created_time':False,'fid':False,'message':False,'post_type':False,'date':False},\n",
    "                              return_document=True)"
   ]
  }
 ],
 "metadata": {
  "kernelspec": {
   "display_name": "Python 2",
   "language": "python",
   "name": "python2"
  },
  "language_info": {
   "codemirror_mode": {
    "name": "ipython",
    "version": 2
   },
   "file_extension": ".py",
   "mimetype": "text/x-python",
   "name": "python",
   "nbconvert_exporter": "python",
   "pygments_lexer": "ipython2",
   "version": "2.7.10"
  }
 },
 "nbformat": 4,
 "nbformat_minor": 2
}
