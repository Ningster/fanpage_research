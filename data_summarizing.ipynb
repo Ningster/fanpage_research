{
 "cells": [
  {
   "cell_type": "code",
   "execution_count": 1,
   "metadata": {
    "collapsed": false,
    "deletable": true,
    "editable": true
   },
   "outputs": [],
   "source": [
    "import json\n",
    "import pymongo\n",
    "from data_tool import flat_json\n",
    "from data_tool import list_to_csv"
   ]
  },
  {
   "cell_type": "code",
   "execution_count": 12,
   "metadata": {
    "collapsed": false,
    "deletable": true,
    "editable": true
   },
   "outputs": [
    {
     "data": {
      "text/plain": [
       "u'fanpage_research'"
      ]
     },
     "execution_count": 12,
     "metadata": {},
     "output_type": "execute_result"
    }
   ],
   "source": [
    "# db set-up\n",
    "client = pymongo.MongoClient(\"localhost\", 27017)\n",
    "db = client.fanpage_research\n",
    "db.name"
   ]
  },
  {
   "cell_type": "code",
   "execution_count": 4,
   "metadata": {
    "collapsed": true,
    "deletable": true,
    "editable": true
   },
   "outputs": [],
   "source": [
    "def sum_post_data(pid_list,exclude_column_list):\n",
    "    \"\"\"\n",
    "    Sum/Integrate the post data in db table columns from db table-- post & post_detail.\n",
    "\n",
    "    :param pid_list: sampled post_id list.\n",
    "    :param exclude_column_list: list of columns not required to be shown.\n",
    "    :return: list of dictionary, a dictionary stands for a post data\n",
    "    :rtype: list consists of dictionary.\n",
    "    \"\"\"\n",
    "    sum_dict = []\n",
    "    for pid in pid_list:\n",
    "        query_post = list(db.post.find({\"pid\":pid}))[0]\n",
    "        query_post_detail = list(db.post_detail.find({\"pid\":pid}))[-1]\n",
    "        query_sum = dict(query_post.items() + query_post_detail.items())\n",
    "        [query_sum.pop(c,None) for c in exclude_column_list]\n",
    "        sum_dict.append(query_sum)\n",
    "    return sum_dict   "
   ]
  },
  {
   "cell_type": "code",
   "execution_count": 19,
   "metadata": {
    "collapsed": false,
    "deletable": true,
    "editable": true
   },
   "outputs": [],
   "source": [
    "with open(\"data_106/sample_pid_list\",'r') as infile:\n",
    "    sample_pid_list = json.load(infile)"
   ]
  },
  {
   "cell_type": "code",
   "execution_count": 20,
   "metadata": {
    "collapsed": false,
    "deletable": true,
    "editable": true
   },
   "outputs": [],
   "source": [
    "sample_sum_dict = sum_post_data(sample_pid_list,['_id','date'])"
   ]
  },
  {
   "cell_type": "code",
   "execution_count": 21,
   "metadata": {
    "collapsed": false,
    "deletable": true,
    "editable": true
   },
   "outputs": [],
   "source": [
    "list_to_csv(sample_sum_dict,\"data_106/sample_post_data.csv\")"
   ]
  },
  {
   "cell_type": "code",
   "execution_count": null,
   "metadata": {
    "collapsed": true
   },
   "outputs": [],
   "source": []
  }
 ],
 "metadata": {
  "kernelspec": {
   "display_name": "Python 2",
   "language": "python",
   "name": "python2"
  },
  "language_info": {
   "codemirror_mode": {
    "name": "ipython",
    "version": 2
   },
   "file_extension": ".py",
   "mimetype": "text/x-python",
   "name": "python",
   "nbconvert_exporter": "python",
   "pygments_lexer": "ipython2",
   "version": "2.7.10"
  }
 },
 "nbformat": 4,
 "nbformat_minor": 2
}
